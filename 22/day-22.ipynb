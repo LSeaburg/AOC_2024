{
 "cells": [
  {
   "cell_type": "code",
   "execution_count": 36,
   "metadata": {},
   "outputs": [],
   "source": [
    "def mix(secret, val):\n",
    "  return val ^ secret"
   ]
  },
  {
   "cell_type": "code",
   "execution_count": 37,
   "metadata": {},
   "outputs": [],
   "source": [
    "def prune(secret):\n",
    "  return secret % 16777216"
   ]
  },
  {
   "cell_type": "code",
   "execution_count": 38,
   "metadata": {},
   "outputs": [],
   "source": [
    "def generate_secret(num):\n",
    "  stage_one_secret = prune(mix(num * 64, num))\n",
    "  stage_two_secret = prune(mix(int(stage_one_secret / 32), stage_one_secret))\n",
    "  return prune(mix(stage_two_secret * 2048, stage_two_secret))"
   ]
  },
  {
   "cell_type": "code",
   "execution_count": 39,
   "metadata": {},
   "outputs": [],
   "source": [
    "buyer_secrets = []\n",
    "\n",
    "with open(\"input.txt\", \"r\") as file:\n",
    "  line = file.readline()\n",
    "  while line:\n",
    "    buyer_secrets.append(int(line.strip()))\n",
    "    line = file.readline()"
   ]
  },
  {
   "cell_type": "code",
   "execution_count": 40,
   "metadata": {},
   "outputs": [
    {
     "name": "stdout",
     "output_type": "stream",
     "text": [
      "16619522798\n"
     ]
    }
   ],
   "source": [
    "total = 0\n",
    "\n",
    "for buyer_secret in buyer_secrets:\n",
    "  secret = buyer_secret\n",
    "  for _ in range(2000):\n",
    "    secret = generate_secret(secret)\n",
    "  total += secret\n",
    "\n",
    "print(total)"
   ]
  },
  {
   "cell_type": "code",
   "execution_count": 41,
   "metadata": {},
   "outputs": [],
   "source": [
    "# Part 2"
   ]
  },
  {
   "cell_type": "code",
   "execution_count": 42,
   "metadata": {},
   "outputs": [],
   "source": [
    "total_sales = dict()\n",
    "\n",
    "for buyer_secret in buyer_secrets:\n",
    "  secret = buyer_secret\n",
    "  prices = [secret % 10]\n",
    "  diffs = []\n",
    "  seen = set()\n",
    "  for _ in range(2000):\n",
    "    new_secret = generate_secret(secret)\n",
    "    prices.append(new_secret % 10)\n",
    "    diffs.append(prices[-1] - prices[-2])\n",
    "    if len(diffs) >= 4:\n",
    "      sequence = (diffs[-4], diffs[-3], diffs[-2], diffs[-1])\n",
    "      if sequence not in seen:\n",
    "        seen.add(sequence)\n",
    "        if sequence in total_sales:\n",
    "          total_sales[sequence] += prices[-1]\n",
    "        else:\n",
    "          total_sales[sequence] = prices[-1]\n",
    "\n",
    "    secret = new_secret\n",
    "\n",
    "print(max(total_sales.values()))"
   ]
  },
  {
   "cell_type": "code",
   "execution_count": null,
   "metadata": {},
   "outputs": [],
   "source": []
  }
 ],
 "metadata": {
  "kernelspec": {
   "display_name": "Python 3",
   "language": "python",
   "name": "python3"
  },
  "language_info": {
   "codemirror_mode": {
    "name": "ipython",
    "version": 3
   },
   "file_extension": ".py",
   "mimetype": "text/x-python",
   "name": "python",
   "nbconvert_exporter": "python",
   "pygments_lexer": "ipython3",
   "version": "3.9.5"
  }
 },
 "nbformat": 4,
 "nbformat_minor": 2
}
