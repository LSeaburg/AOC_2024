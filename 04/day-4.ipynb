{
 "cells": [
  {
   "cell_type": "code",
   "execution_count": 43,
   "metadata": {},
   "outputs": [],
   "source": [
    "positions = [\n",
    "  [[0,0], [0,1], [0,2], [0,3]],\n",
    "  [[0,3], [0,2], [0,1], [0,0]],\n",
    "  [[0,0], [1,0], [2,0], [3,0]],\n",
    "  [[3,0], [2,0], [1,0], [0,0]],\n",
    "  [[0,0], [1,1], [2,2], [3,3]],\n",
    "  [[3,3], [2,2], [1,1], [0,0]],\n",
    "  [[0,3], [1,2], [2,1], [3,0]],\n",
    "  [[3,0], [2,1], [1,2], [0,3]]\n",
    "]##  X      M      A      S"
   ]
  },
  {
   "cell_type": "code",
   "execution_count": 49,
   "metadata": {},
   "outputs": [],
   "source": [
    "mas_positions = [\n",
    "  [[1,1], [0,0], [2,2], [0,2], [2,0]],\n",
    "  [[1,1], [0,0], [2,2], [2,0], [0,2]],\n",
    "  [[1,1], [2,2], [0,0], [0,2], [2,0]],\n",
    "  [[1,1], [2,2], [0,0], [2,0], [0,2]]\n",
    "]##  A      M      S      M      S"
   ]
  },
  {
   "cell_type": "code",
   "execution_count": 50,
   "metadata": {},
   "outputs": [],
   "source": [
    "f = open(\"input.txt\")\n",
    "lines = f.readlines()\n",
    "\n",
    "wordsearch = []\n",
    "\n",
    "for line in lines:\n",
    "  line = line[:-1] + \"...\"\n",
    "  wordsearch.append(list(line))\n",
    "\n",
    "dummy_lines = ['.'] * (len(lines[0]) + 2)\n",
    "for i in range(3):\n",
    "  wordsearch.append(dummy_lines)\n"
   ]
  },
  {
   "cell_type": "code",
   "execution_count": 51,
   "metadata": {},
   "outputs": [
    {
     "name": "stdout",
     "output_type": "stream",
     "text": [
      "2536\n"
     ]
    }
   ],
   "source": [
    "count = 0\n",
    "\n",
    "for pos in positions:\n",
    "  for i in range(len(wordsearch) - 3):\n",
    "    for j in range(len(wordsearch[0]) - 3):\n",
    "      if (wordsearch[i + pos[0][0]][j + pos[0][1]] == \"X\" and\n",
    "          wordsearch[i + pos[1][0]][j + pos[1][1]] == \"M\" and\n",
    "          wordsearch[i + pos[2][0]][j + pos[2][1]] == \"A\" and\n",
    "          wordsearch[i + pos[3][0]][j + pos[3][1]] == \"S\"):\n",
    "        count = count + 1\n",
    "\n",
    "print(count)"
   ]
  },
  {
   "cell_type": "code",
   "execution_count": 52,
   "metadata": {},
   "outputs": [],
   "source": [
    "## Part 2"
   ]
  },
  {
   "cell_type": "code",
   "execution_count": 53,
   "metadata": {},
   "outputs": [
    {
     "name": "stdout",
     "output_type": "stream",
     "text": [
      "1875\n"
     ]
    }
   ],
   "source": [
    "mas_count = 0\n",
    "\n",
    "for pos in mas_positions:\n",
    "  for i in range(len(wordsearch) - 3):\n",
    "    for j in range(len(wordsearch[0]) - 3):\n",
    "      if (wordsearch[i + pos[0][0]][j + pos[0][1]] == \"A\" and\n",
    "          wordsearch[i + pos[1][0]][j + pos[1][1]] == \"M\" and\n",
    "          wordsearch[i + pos[2][0]][j + pos[2][1]] == \"S\" and\n",
    "          wordsearch[i + pos[3][0]][j + pos[3][1]] == \"M\" and\n",
    "          wordsearch[i + pos[4][0]][j + pos[4][1]] == \"S\"):\n",
    "        mas_count = mas_count + 1\n",
    "\n",
    "print(mas_count)"
   ]
  },
  {
   "cell_type": "code",
   "execution_count": null,
   "metadata": {},
   "outputs": [],
   "source": []
  }
 ],
 "metadata": {
  "kernelspec": {
   "display_name": "Python 3",
   "language": "python",
   "name": "python3"
  },
  "language_info": {
   "codemirror_mode": {
    "name": "ipython",
    "version": 3
   },
   "file_extension": ".py",
   "mimetype": "text/x-python",
   "name": "python",
   "nbconvert_exporter": "python",
   "pygments_lexer": "ipython3",
   "version": "3.9.5"
  }
 },
 "nbformat": 4,
 "nbformat_minor": 2
}
