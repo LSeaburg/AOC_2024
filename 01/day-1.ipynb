{
 "cells": [
  {
   "cell_type": "code",
   "execution_count": 64,
   "metadata": {},
   "outputs": [],
   "source": [
    "import numpy as np\n",
    "import pandas as pd"
   ]
  },
  {
   "cell_type": "code",
   "execution_count": 65,
   "metadata": {},
   "outputs": [],
   "source": [
    "df = pd.read_csv(\"./input.txt\", sep=\"\\s+\", header=None, names=['Col1', 'Col2'])"
   ]
  },
  {
   "cell_type": "code",
   "execution_count": 66,
   "metadata": {},
   "outputs": [],
   "source": [
    "list1 = df[\"Col1\"].to_list()\n",
    "list2 = df[\"Col2\"].to_list()\n",
    "list1.sort(); list2.sort()"
   ]
  },
  {
   "cell_type": "code",
   "execution_count": 67,
   "metadata": {},
   "outputs": [
    {
     "name": "stdout",
     "output_type": "stream",
     "text": [
      "1603498\n"
     ]
    }
   ],
   "source": [
    "l1_distance = np.sum(np.abs(np.array(list1) - np.array(list2)))\n",
    "\n",
    "print(l1_distance)"
   ]
  },
  {
   "cell_type": "code",
   "execution_count": 68,
   "metadata": {},
   "outputs": [],
   "source": [
    "## Part 2"
   ]
  },
  {
   "cell_type": "code",
   "execution_count": 69,
   "metadata": {},
   "outputs": [],
   "source": [
    "freq = dict()\n",
    "\n",
    "for num in list2:\n",
    "  if freq.get(num):\n",
    "    freq[num] = freq[num] + 1\n",
    "  else:\n",
    "    freq[num] = 1"
   ]
  },
  {
   "cell_type": "code",
   "execution_count": 70,
   "metadata": {},
   "outputs": [
    {
     "name": "stdout",
     "output_type": "stream",
     "text": [
      "25574739\n"
     ]
    }
   ],
   "source": [
    "sim_score = 0\n",
    "\n",
    "for num in list1:\n",
    "  occurences = freq[num] if freq.get(num) else 0\n",
    "  sim_score += num * occurences\n",
    "\n",
    "print(sim_score)"
   ]
  }
 ],
 "metadata": {
  "kernelspec": {
   "display_name": "Python 3",
   "language": "python",
   "name": "python3"
  },
  "language_info": {
   "codemirror_mode": {
    "name": "ipython",
    "version": 3
   },
   "file_extension": ".py",
   "mimetype": "text/x-python",
   "name": "python",
   "nbconvert_exporter": "python",
   "pygments_lexer": "ipython3",
   "version": "3.9.5"
  }
 },
 "nbformat": 4,
 "nbformat_minor": 2
}
