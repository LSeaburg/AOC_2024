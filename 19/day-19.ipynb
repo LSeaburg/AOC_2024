{
 "cells": [
  {
   "cell_type": "code",
   "execution_count": 505,
   "metadata": {},
   "outputs": [],
   "source": [
    "def is_possible_pattern(pattern, towels):\n",
    "  if pattern == \"\":\n",
    "    return True\n",
    "  for towel in towels:\n",
    "    if towel == pattern[:len(towel)]:\n",
    "      if is_possible_pattern(pattern[len(towel):], towels):\n",
    "        return True\n",
    "\n",
    "  return False\n"
   ]
  },
  {
   "cell_type": "code",
   "execution_count": 506,
   "metadata": {},
   "outputs": [],
   "source": [
    "def get_num_of_arrangements(pattern, towels, arrangements, segs, seen):\n",
    "  if pattern == \"\":\n",
    "    return 1\n",
    "  if pattern in seen:\n",
    "    return seen[pattern]\n",
    "  for towel in towels:\n",
    "    if towel == pattern[:len(towel)]:\n",
    "      new_arrangements = get_num_of_arrangements(pattern[len(towel):], towels, 0, segs + [towel], seen)\n",
    "      arrangements = arrangements + new_arrangements\n",
    "      seen.update({pattern: arrangements})\n",
    "  return arrangements"
   ]
  },
  {
   "cell_type": "code",
   "execution_count": 507,
   "metadata": {},
   "outputs": [],
   "source": [
    "towels = []\n",
    "patterns = []\n",
    "\n",
    "with open(\"input.txt\", \"r\") as file:\n",
    "    line = file.readline()\n",
    "    towel_strs = line.strip().split(\",\")\n",
    "    for str in towel_strs:\n",
    "       towels.append(str.strip())\n",
    "\n",
    "    line = file.readline()\n",
    "    line = file.readline()\n",
    "    while line:\n",
    "      patterns.append(line.strip())\n",
    "      line = file.readline()"
   ]
  },
  {
   "cell_type": "code",
   "execution_count": 508,
   "metadata": {},
   "outputs": [
    {
     "name": "stdout",
     "output_type": "stream",
     "text": [
      "240\n"
     ]
    }
   ],
   "source": [
    "count = 0\n",
    "\n",
    "for pattern in patterns:\n",
    "  if is_possible_pattern(pattern, towels):\n",
    "    count += 1\n",
    "\n",
    "print(count)"
   ]
  },
  {
   "cell_type": "code",
   "execution_count": 509,
   "metadata": {},
   "outputs": [
    {
     "name": "stdout",
     "output_type": "stream",
     "text": [
      "848076019766013\n"
     ]
    }
   ],
   "source": [
    "count = 0\n",
    "seen = dict()\n",
    "\n",
    "for pattern in patterns:\n",
    "  count += get_num_of_arrangements(pattern, towels, 0, [], dict())\n",
    "\n",
    "print(count)"
   ]
  },
  {
   "cell_type": "code",
   "execution_count": null,
   "metadata": {},
   "outputs": [],
   "source": []
  }
 ],
 "metadata": {
  "kernelspec": {
   "display_name": "Python 3",
   "language": "python",
   "name": "python3"
  },
  "language_info": {
   "codemirror_mode": {
    "name": "ipython",
    "version": 3
   },
   "file_extension": ".py",
   "mimetype": "text/x-python",
   "name": "python",
   "nbconvert_exporter": "python",
   "pygments_lexer": "ipython3",
   "version": "3.9.5"
  }
 },
 "nbformat": 4,
 "nbformat_minor": 2
}
