{
 "cells": [
  {
   "cell_type": "code",
   "execution_count": 1,
   "metadata": {},
   "outputs": [],
   "source": [
    "import math"
   ]
  },
  {
   "cell_type": "code",
   "execution_count": 2,
   "metadata": {},
   "outputs": [],
   "source": [
    "def valid_test_case(test_val, op_vals):\n",
    "  if len(op_vals) == 2:\n",
    "    return ((op_vals[0] * op_vals[1] == test_val) or \n",
    "            (op_vals[0] + op_vals[1] == test_val))\n",
    "  mul_op_vals = [op_vals[0] * op_vals[1]] + op_vals[2:]\n",
    "  sum_op_vals = [op_vals[0] + op_vals[1]] + op_vals[2:]\n",
    "  return (valid_test_case(test_val, mul_op_vals) or \n",
    "          valid_test_case(test_val, sum_op_vals))"
   ]
  },
  {
   "cell_type": "code",
   "execution_count": 3,
   "metadata": {},
   "outputs": [],
   "source": [
    "def concat(num1, num2):\n",
    "  power = math.log10(num2)\n",
    "  return num1 * (10 ** (int(power) + 1)) + num2"
   ]
  },
  {
   "cell_type": "code",
   "execution_count": 4,
   "metadata": {},
   "outputs": [],
   "source": [
    "def valid_test_case_with_concat(test_val, op_vals):\n",
    "  if len(op_vals) == 2:\n",
    "    return ((op_vals[0] * op_vals[1] == test_val) or \n",
    "            (op_vals[0] + op_vals[1] == test_val) or\n",
    "            (concat(op_vals[0], op_vals[1]) == test_val))\n",
    "  mul_op_vals = [op_vals[0] * op_vals[1]] + op_vals[2:]\n",
    "  sum_op_vals = [op_vals[0] + op_vals[1]] + op_vals[2:]\n",
    "  cat_op_vals = [concat(op_vals[0], op_vals[1])] + op_vals[2:]\n",
    "  return (valid_test_case_with_concat(test_val, mul_op_vals) or \n",
    "          valid_test_case_with_concat(test_val, sum_op_vals) or\n",
    "          valid_test_case_with_concat(test_val, cat_op_vals))"
   ]
  },
  {
   "cell_type": "code",
   "execution_count": 5,
   "metadata": {},
   "outputs": [],
   "source": [
    "test_vals = []\n",
    "\n",
    "with open(\"input.txt\", \"r\") as file:\n",
    "  for line in file:\n",
    "    vals = line.strip().split(\":\")\n",
    "    test_val = int(vals[0])\n",
    "    op_vals = list(map(int, vals[1].strip().split(\" \")))\n",
    "    test_vals.append([test_val, op_vals])"
   ]
  },
  {
   "cell_type": "code",
   "execution_count": 6,
   "metadata": {},
   "outputs": [
    {
     "data": {
      "text/plain": [
       "1399219271639"
      ]
     },
     "execution_count": 6,
     "metadata": {},
     "output_type": "execute_result"
    }
   ],
   "source": [
    "valid_test_total = 0\n",
    "\n",
    "for [test_val, op_vals] in test_vals:\n",
    "  if valid_test_case(test_val, op_vals):\n",
    "    valid_test_total += test_val\n",
    "\n",
    "valid_test_total"
   ]
  },
  {
   "cell_type": "code",
   "execution_count": 7,
   "metadata": {},
   "outputs": [
    {
     "data": {
      "text/plain": [
       "275791737999003"
      ]
     },
     "execution_count": 7,
     "metadata": {},
     "output_type": "execute_result"
    }
   ],
   "source": [
    "valid_test_total_with_concat = 0\n",
    "\n",
    "for [test_val, op_vals] in test_vals:\n",
    "  if valid_test_case_with_concat(test_val, op_vals):\n",
    "    valid_test_total_with_concat += test_val\n",
    "\n",
    "valid_test_total_with_concat"
   ]
  }
 ],
 "metadata": {
  "kernelspec": {
   "display_name": "Python 3",
   "language": "python",
   "name": "python3"
  },
  "language_info": {
   "codemirror_mode": {
    "name": "ipython",
    "version": 3
   },
   "file_extension": ".py",
   "mimetype": "text/x-python",
   "name": "python",
   "nbconvert_exporter": "python",
   "pygments_lexer": "ipython3",
   "version": "3.9.5"
  }
 },
 "nbformat": 4,
 "nbformat_minor": 2
}
