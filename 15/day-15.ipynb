{
 "cells": [
  {
   "cell_type": "code",
   "execution_count": 2,
   "metadata": {},
   "outputs": [],
   "source": [
    "def wide_input(line):\n",
    "  new_line = []\n",
    "  for ch in line:\n",
    "    if ch == \"#\":\n",
    "      new_line.append(\"#\")\n",
    "      new_line.append(\"#\")\n",
    "    elif ch == \"O\":\n",
    "      new_line.append(\"[\")\n",
    "      new_line.append(\"]\")\n",
    "    elif ch == \".\":\n",
    "      new_line.append(\".\")\n",
    "      new_line.append(\".\")\n",
    "    elif ch == \"@\":\n",
    "      new_line.append(\"@\")\n",
    "      new_line.append(\".\")\n",
    "  return new_line"
   ]
  },
  {
   "cell_type": "code",
   "execution_count": 3,
   "metadata": {},
   "outputs": [],
   "source": [
    "def get_move_vec(move):\n",
    "  if move == \"^\":\n",
    "    return (0, 1)\n",
    "  if move == \"v\":\n",
    "    return (0, -1)\n",
    "  if move == \"<\":\n",
    "    return (-1, 0)\n",
    "  if move == \">\":\n",
    "    return (1, 0)\n",
    "  return (0,0)"
   ]
  },
  {
   "cell_type": "code",
   "execution_count": 4,
   "metadata": {},
   "outputs": [],
   "source": [
    "def new_pos(pos, dir):\n",
    "  vec = get_move_vec(dir)\n",
    "  return (pos[0] + vec[0], pos[1] - vec[1])"
   ]
  },
  {
   "cell_type": "code",
   "execution_count": 5,
   "metadata": {},
   "outputs": [],
   "source": [
    "def is_vertical_move(dir):\n",
    "  if dir == \"^\" or dir == \"v\":\n",
    "    return True"
   ]
  },
  {
   "cell_type": "code",
   "execution_count": 6,
   "metadata": {},
   "outputs": [],
   "source": [
    "def set_map(pos, sym, map):\n",
    "  (x, y) = pos\n",
    "  map[y][x] = sym\n",
    "  return"
   ]
  },
  {
   "cell_type": "code",
   "execution_count": 7,
   "metadata": {},
   "outputs": [],
   "source": [
    "def get_sym(pos, map):\n",
    "  (x, y) = pos\n",
    "  return map[y][x]"
   ]
  },
  {
   "cell_type": "code",
   "execution_count": 8,
   "metadata": {},
   "outputs": [],
   "source": [
    "def get_robot_pos(map):\n",
    "  for y, row in enumerate(map):\n",
    "    if \"@\" in row:\n",
    "      return (row.index(\"@\"), y)"
   ]
  },
  {
   "cell_type": "code",
   "execution_count": 9,
   "metadata": {},
   "outputs": [],
   "source": [
    "def is_wall(pos, map):\n",
    "  (x, y) = pos\n",
    "  if map[y][x] == \"#\":\n",
    "    return True\n",
    "  return False"
   ]
  },
  {
   "cell_type": "code",
   "execution_count": 10,
   "metadata": {},
   "outputs": [],
   "source": [
    "def is_box(pos, map):\n",
    "  (x, y) = pos\n",
    "  if map[y][x] == \"O\" or map[y][x] == \"[\" or map[y][x] == \"]\":\n",
    "    return True\n",
    "  return False"
   ]
  },
  {
   "cell_type": "code",
   "execution_count": 11,
   "metadata": {},
   "outputs": [],
   "source": [
    "def is_left_edge_of_box(pos, map):\n",
    "  (x, y) = pos\n",
    "  if map[y][x] == \"[\":\n",
    "    return True\n",
    "  return False"
   ]
  },
  {
   "cell_type": "code",
   "execution_count": 12,
   "metadata": {},
   "outputs": [],
   "source": [
    "def is_right_edge_of_box(pos, map):\n",
    "  (x, y) = pos\n",
    "  if map[y][x] == \"]\":\n",
    "    return True\n",
    "  return False"
   ]
  },
  {
   "cell_type": "code",
   "execution_count": 13,
   "metadata": {},
   "outputs": [],
   "source": [
    "def move_box(pos, dir, map, move_half=True, update=True):\n",
    "  # Move the other half of the box, if necessary\n",
    "  if is_vertical_move(dir) and move_half:  \n",
    "    if is_left_edge_of_box(pos, map):\n",
    "      if not move_box(new_pos(pos, \">\"), dir, map, move_half=False, update=update):\n",
    "        return False\n",
    "    elif is_right_edge_of_box(pos, map):\n",
    "      if not move_box(new_pos(pos, \"<\"), dir, map, move_half=False, update=update):\n",
    "        return False\n",
    "\n",
    "  # Cannot update if there is a wall\n",
    "  if is_wall(new_pos(pos, dir), map):\n",
    "    return False\n",
    "\n",
    "  # If there is a box in the space that this box is being moved to, move it\n",
    "  if is_box(new_pos(pos, dir), map):\n",
    "    if not move_box(new_pos(pos, dir), dir, map, update=update):\n",
    "      return False\n",
    "\n",
    "  # Move the box\n",
    "  if update:\n",
    "    set_map(new_pos(pos, dir), get_sym(pos, map), map)\n",
    "    set_map(pos, \".\", map)\n",
    "  return True\n"
   ]
  },
  {
   "cell_type": "code",
   "execution_count": 14,
   "metadata": {},
   "outputs": [],
   "source": [
    "def process_move(dir, map):\n",
    "  pos = get_robot_pos(map)\n",
    "\n",
    "  # Need to ask first without updating in case of branching possibilities with wide boxes\n",
    "  if move_box(pos, dir, map, update=False):\n",
    "    move_box(pos, dir, map)\n",
    "    set_map(new_pos(pos, dir), \"@\", map)\n",
    "    set_map(pos, \".\", map)\n",
    "  return"
   ]
  },
  {
   "cell_type": "code",
   "execution_count": 15,
   "metadata": {},
   "outputs": [],
   "source": [
    "def display_map(map):\n",
    "  for row in map:\n",
    "    for ch in row:\n",
    "      print(ch, end=\"\")\n",
    "    print()\n",
    "  return"
   ]
  },
  {
   "cell_type": "code",
   "execution_count": 16,
   "metadata": {},
   "outputs": [],
   "source": [
    "map = []\n",
    "moves = \"\"\n",
    "\n",
    "with open(\"input.txt\", \"r\") as file:\n",
    "    line = file.readline().strip()\n",
    "    while line:\n",
    "        map.append(list(line))\n",
    "        line = file.readline().strip()\n",
    "    line = file.readline().strip()\n",
    "    while line:\n",
    "        moves += line\n",
    "        line = file.readline().strip()"
   ]
  },
  {
   "cell_type": "code",
   "execution_count": 17,
   "metadata": {},
   "outputs": [
    {
     "data": {
      "text/plain": [
       "1414416"
      ]
     },
     "execution_count": 17,
     "metadata": {},
     "output_type": "execute_result"
    }
   ],
   "source": [
    "for move in moves:\n",
    "  process_move(move, map)\n",
    "\n",
    "gps_sum = 0\n",
    "for y, row in enumerate(map):\n",
    "  for x, ch in enumerate(row):\n",
    "    if is_box((x, y), map):\n",
    "      gps_sum += 100 * y + x\n",
    "\n",
    "gps_sum"
   ]
  },
  {
   "cell_type": "code",
   "execution_count": 18,
   "metadata": {},
   "outputs": [],
   "source": [
    "## Part 2"
   ]
  },
  {
   "cell_type": "code",
   "execution_count": 19,
   "metadata": {},
   "outputs": [],
   "source": [
    "map = []\n",
    "moves = \"\"\n",
    "\n",
    "with open(\"input.txt\", \"r\") as file:\n",
    "    line = file.readline().strip()\n",
    "    while line:\n",
    "        map.append(wide_input(line))\n",
    "        line = file.readline().strip()\n",
    "    line = file.readline().strip()\n",
    "    while line:\n",
    "        moves += line\n",
    "        line = file.readline().strip()"
   ]
  },
  {
   "cell_type": "code",
   "execution_count": 20,
   "metadata": {},
   "outputs": [
    {
     "data": {
      "text/plain": [
       "1386070"
      ]
     },
     "execution_count": 20,
     "metadata": {},
     "output_type": "execute_result"
    }
   ],
   "source": [
    "# display_map(map)\n",
    "\n",
    "for move in moves:\n",
    "  process_move(move, map)\n",
    "\n",
    "  # print()\n",
    "  # print(move)\n",
    "  # display_map(map)\n",
    "\n",
    "gps_sum = 0\n",
    "for y, row in enumerate(map):\n",
    "  for x, ch in enumerate(row):\n",
    "    if is_left_edge_of_box((x, y), map):\n",
    "      gps_sum += 100 * y + x\n",
    "\n",
    "gps_sum"
   ]
  },
  {
   "cell_type": "code",
   "execution_count": 21,
   "metadata": {},
   "outputs": [
    {
     "name": "stdout",
     "output_type": "stream",
     "text": [
      "####################################################################################################\n",
      "##..........[][][][]##......[]......####........####..........[]..........[][]....[]........[]....##\n",
      "####..........[]....[][]..............[]..............[]..[]..[][][]..[]..[]......[][]..##....##[]##\n",
      "####....##......[]..[]....##[]..[]..[][][]......##..................[]....................[]......##\n",
      "##[]....##[]........[]..[][][]..[]........................[]........[]............##[]..[]........##\n",
      "##[][]..[]##........[]......[]......[]....[]..[][]##....[]......[]......##......[]..........[][]..##\n",
      "##[][].....[][].....[]....[]......##..[]..[]......[]........................[][]....[]..[]##[]..[]##\n",
      "##..[]........##[][][]..[]##..........[]......[]............[]......##..........[]..[]..[]..##....##\n",
      "##..........##[]..........[]...[].....[][]....[]....[]........##................##..[]............##\n",
      "##......[]..[][]..........[][]..[]##[]..[][]....[]..##..##..[]........[]##..[][][]......[]........##\n",
      "##....##[]....[]....[][]......##...[].....##[]..[]....[]..[][]......[]....##....[][]....[]........##\n",
      "##.....[].....[]..[]..##[].........[]...##..##..............[]##[][]..................[]....[]....##\n",
      "##[][][]..##....[][]................[]...[].##......[]..[]....[]..[][]......####[]##[]......[]##[]##\n",
      "##[]..[].[][].....##................[]....[][]..........[]....##[]..........[][]##..............[]##\n",
      "##.[][][]...................[].[][]...####[]..##[]##..............##..##[]##..[][][]......##......##\n",
      "##..[]............[]............##................[][][][]........[]##........##..[][]....[][][]..##\n",
      "##....................##[].[]....[]...............[][][][]........##[][]....##....[][]......[]######\n",
      "##........####.......[][][]........[]...##......##[][][]....##..........[]........####......[]##[]##\n",
      "##[]....................##........##........##.....[]...##..........[]..##..[]........##....[][]..##\n",
      "##........[]......##..[].[]................[].....................[][][]......[][]..[][]..[][]##..##\n",
      "##.[]...##[]............[].[]..........[]...[]##............##..[][]..[]..........[][]....[]....####\n",
      "##[]..............##........##[]..##....##[]##[].........[][]...##[][]##..........[]....##........##\n",
      "##..##.[].........[].[].......##[][]...[]..[][].##..........[]....[][]....[][]....[]....[]##......##\n",
      "##[]##[].[].........[]..##....[][].[].........[][].[].......[]....##......[][][]..[][][][][]....####\n",
      "##.....[][].......[][]..[][]....[][][]........[].[][]......[].....[]...[].[][]........[][].....[].##\n",
      "##......##[]....[].[]...##.....[]..............[][][]...##[]......[]....[]..........##.[].....##[]##\n",
      "##........[]....##.....[][].....##............[]..[]...[].[]..[]..[]##............##.[].........[]##\n",
      "##..[].........[][][]...[].....................[][].....[][]......[][]............[][][]..........##\n",
      "##[]..[].....[].##....##[]..................[]..[]......[][]......[][]............[]..............##\n",
      "##[]....[]...[].[]..[]........##..........[]...[]....[].[]..[]##[].[]...[].............[][].......##\n",
      "##[]....##.....[]........................[]....................[][][].##.....[][].[]....[]........##\n",
      "##[]##.................................[][].##........##[][].......[][].........[].......[].......##\n",
      "##[]..[][]..##..................[]......[]...........................[][].......##..##.........[].##\n",
      "##....[]......[]............[][]##......[]..................[]...........[].....................[]##\n",
      "##........##..##[]........##.[].####..##[][]##.............[]..........[].##............##......[]##\n",
      "##..##.....[][]......[].....[][]......[].[].####[].........................[]......[].........[]..##\n",
      "##.....[]...[].............[][].....##[][]..[].......[].................##......[]##........[]....##\n",
      "##........##......[]......[]##.[].....[][]............##.[]..............[]..[].[]##[]......##....##\n",
      "##..............##[][].....[].[]##....##[]....####......[]...........[]........[].##[]##........####\n",
      "##[][].........[]..[]............[].....[].....[][]....[].......[]##.......[].......##.........[].##\n",
      "######.......[]...[][][]....##[]....##[][][][]..[]##...[].[]..##.[].......##[]......##......##[][]##\n",
      "##[]........##....[]##[]......##...[]..[].[]........................................[]............##\n",
      "##......[]...[]...[][]####....[]..##............................................##................##\n",
      "####....[][]...[].[].....[].......[]........................[]..........##......[]......[]........##\n",
      "##.....[][][][].............##......................@.......##........[][]........[]##..[]........##\n",
      "##........##[][]....[]........................[]....................[][]..##..[]..[]..[]##..##....##\n",
      "##..[]......[][]......####[].[]......[]....[].[]..........##.[]...[]##[].........[]...[][]........##\n",
      "##[][].[][][].........##..[]..[][]..[]##[]##[]..[][]####......##[][][][][]..##..[]##..##..........##\n",
      "####[][][]..[]................[][][]..[]..[]..##[][]##[][]..[]....[]..[]##.[]...............[]##[]##\n",
      "####################################################################################################\n"
     ]
    }
   ],
   "source": [
    "display_map(map)"
   ]
  },
  {
   "cell_type": "code",
   "execution_count": 22,
   "metadata": {},
   "outputs": [
    {
     "data": {
      "text/plain": [
       "20000"
      ]
     },
     "execution_count": 22,
     "metadata": {},
     "output_type": "execute_result"
    }
   ],
   "source": [
    "len(moves)"
   ]
  },
  {
   "cell_type": "code",
   "execution_count": null,
   "metadata": {},
   "outputs": [],
   "source": []
  }
 ],
 "metadata": {
  "kernelspec": {
   "display_name": "Python 3",
   "language": "python",
   "name": "python3"
  },
  "language_info": {
   "codemirror_mode": {
    "name": "ipython",
    "version": 3
   },
   "file_extension": ".py",
   "mimetype": "text/x-python",
   "name": "python",
   "nbconvert_exporter": "python",
   "pygments_lexer": "ipython3",
   "version": "3.9.5"
  }
 },
 "nbformat": 4,
 "nbformat_minor": 2
}
