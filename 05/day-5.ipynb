{
 "cells": [
  {
   "cell_type": "code",
   "execution_count": 1,
   "metadata": {},
   "outputs": [],
   "source": [
    "def is_valid(order, dependencies):\n",
    "  seen = set()\n",
    "  for page in order:\n",
    "    if page in dependencies:\n",
    "      for dependency in dependencies[page]:\n",
    "        if dependency in seen:\n",
    "          return False\n",
    "    seen.add(page)\n",
    "  return True"
   ]
  },
  {
   "cell_type": "code",
   "execution_count": 2,
   "metadata": {},
   "outputs": [],
   "source": [
    "def check_order(order, dependencies):\n",
    "  if is_valid(order, dependencies):\n",
    "    midpoint = int(len(order)/2)\n",
    "    return order[midpoint]\n",
    "  return 0"
   ]
  },
  {
   "cell_type": "code",
   "execution_count": 3,
   "metadata": {},
   "outputs": [],
   "source": [
    "def swap_pages(order, dependencies):\n",
    "  seen = dict()\n",
    "  for index, page in enumerate(order):\n",
    "    if page in dependencies:\n",
    "      for dependency in dependencies[page]:\n",
    "        if dependency in seen:\n",
    "          new_order = order.copy()\n",
    "          new_order[index] = dependency\n",
    "          new_order[seen[dependency]] = page\n",
    "          return new_order\n",
    "    seen.update({page: index})\n",
    "  return None"
   ]
  },
  {
   "cell_type": "code",
   "execution_count": 4,
   "metadata": {},
   "outputs": [],
   "source": [
    "def fix_order(order, dependencies):\n",
    "  while swap_pages(order, dependencies) != None:\n",
    "    order = swap_pages(order, dependencies)\n",
    "  return order"
   ]
  },
  {
   "cell_type": "code",
   "execution_count": 5,
   "metadata": {},
   "outputs": [],
   "source": [
    "def check_incorrect_order(order, dependencies):\n",
    "  if is_valid(order, dependencies):\n",
    "    return 0\n",
    "  new_order = fix_order(order, dependencies)\n",
    "  midpoint = int(len(new_order)/2)\n",
    "  return new_order[midpoint]"
   ]
  },
  {
   "cell_type": "code",
   "execution_count": 6,
   "metadata": {},
   "outputs": [],
   "source": [
    "## Read in file\n",
    "\n",
    "rules = []\n",
    "orders = []\n",
    "\n",
    "with open(\"input.txt\", \"r\") as file:\n",
    "  line = file.readline()\n",
    "  while line != \"\\n\":\n",
    "    rule = list(map(int, line.strip().split('|')))\n",
    "    rules.append(rule)\n",
    "    line = file.readline()\n",
    "\n",
    "  line = file.readline()\n",
    "  while (line):\n",
    "    order = list(map(int, line.split(',')))\n",
    "    orders.append(order)\n",
    "    line = file.readline()\n",
    "\n"
   ]
  },
  {
   "cell_type": "code",
   "execution_count": 7,
   "metadata": {},
   "outputs": [],
   "source": [
    "## Create dependencies list\n",
    "\n",
    "dependencies = dict()\n",
    "\n",
    "for rule in rules:\n",
    "  if dependencies.get(rule[0]):\n",
    "    dependencies[rule[0]].add(rule[1])\n",
    "  else:\n",
    "    dependencies[rule[0]] = {rule[1]}"
   ]
  },
  {
   "cell_type": "code",
   "execution_count": 8,
   "metadata": {},
   "outputs": [
    {
     "name": "stdout",
     "output_type": "stream",
     "text": [
      "5639\n"
     ]
    }
   ],
   "source": [
    "sum = 0\n",
    "\n",
    "for order in orders:\n",
    "  sum += check_order(order, dependencies)\n",
    "\n",
    "print(sum)"
   ]
  },
  {
   "cell_type": "code",
   "execution_count": 9,
   "metadata": {},
   "outputs": [],
   "source": [
    "## Part 2"
   ]
  },
  {
   "cell_type": "code",
   "execution_count": 10,
   "metadata": {},
   "outputs": [
    {
     "name": "stdout",
     "output_type": "stream",
     "text": [
      "5273\n"
     ]
    }
   ],
   "source": [
    "sum = 0\n",
    "\n",
    "for order in orders:\n",
    "  sum = sum + check_incorrect_order(order, dependencies)\n",
    "\n",
    "print(sum)"
   ]
  },
  {
   "cell_type": "code",
   "execution_count": null,
   "metadata": {},
   "outputs": [],
   "source": []
  }
 ],
 "metadata": {
  "kernelspec": {
   "display_name": "Python 3",
   "language": "python",
   "name": "python3"
  },
  "language_info": {
   "codemirror_mode": {
    "name": "ipython",
    "version": 3
   },
   "file_extension": ".py",
   "mimetype": "text/x-python",
   "name": "python",
   "nbconvert_exporter": "python",
   "pygments_lexer": "ipython3",
   "version": "3.9.5"
  }
 },
 "nbformat": 4,
 "nbformat_minor": 2
}
