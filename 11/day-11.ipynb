{
 "cells": [
  {
   "cell_type": "code",
   "execution_count": 173,
   "metadata": {},
   "outputs": [],
   "source": [
    "import math"
   ]
  },
  {
   "cell_type": "code",
   "execution_count": 174,
   "metadata": {},
   "outputs": [],
   "source": [
    "def blink(stones):\n",
    "  new_stones = []\n",
    "\n",
    "  for stone in stones:\n",
    "    if stone == 0:\n",
    "      new_stones.append(1)\n",
    "    elif int(math.log10(stone) + 1) % 2 == 0: ## even number of digits\n",
    "      half = int(math.log10(stone) + 1) / 2\n",
    "      new_stones.append(int(stone / (10 ** half)))\n",
    "      new_stones.append(int(stone % (10 ** half)))\n",
    "    else:\n",
    "      new_stones.append(stone * 2024)\n",
    "\n",
    "  return new_stones"
   ]
  },
  {
   "cell_type": "code",
   "execution_count": 175,
   "metadata": {},
   "outputs": [],
   "source": [
    "def get_stone_size(stones, iter, seen):\n",
    "  total_stones = 0\n",
    "  for stone in stones:\n",
    "    if (stone, iter) in seen:\n",
    "      total_stones += seen[(stone, iter)]\n",
    "    else:\n",
    "      new_stones = blink([stone])\n",
    "      if iter == 1:\n",
    "        new_stone_num = len(new_stones)\n",
    "      else:\n",
    "        new_stone_num = get_stone_size(new_stones, iter - 1, seen)\n",
    "      seen.update({(stone, iter): new_stone_num})\n",
    "      total_stones += new_stone_num\n",
    "  return total_stones"
   ]
  },
  {
   "cell_type": "code",
   "execution_count": 176,
   "metadata": {},
   "outputs": [],
   "source": [
    "with open(\"input.txt\", \"r\") as file:\n",
    "    for line in file:\n",
    "        stones = list(map(int, line.strip().split(\" \")))"
   ]
  },
  {
   "cell_type": "code",
   "execution_count": 177,
   "metadata": {},
   "outputs": [
    {
     "data": {
      "text/plain": [
       "224529"
      ]
     },
     "execution_count": 177,
     "metadata": {},
     "output_type": "execute_result"
    }
   ],
   "source": [
    "seen = dict()\n",
    "\n",
    "get_stone_size(stones, 25, seen)"
   ]
  },
  {
   "cell_type": "code",
   "execution_count": 178,
   "metadata": {},
   "outputs": [],
   "source": [
    "## Part 2"
   ]
  },
  {
   "cell_type": "code",
   "execution_count": 179,
   "metadata": {},
   "outputs": [
    {
     "data": {
      "text/plain": [
       "266820198587914"
      ]
     },
     "execution_count": 179,
     "metadata": {},
     "output_type": "execute_result"
    }
   ],
   "source": [
    "get_stone_size(stones, 75, seen)"
   ]
  }
 ],
 "metadata": {
  "kernelspec": {
   "display_name": "Python 3",
   "language": "python",
   "name": "python3"
  },
  "language_info": {
   "codemirror_mode": {
    "name": "ipython",
    "version": 3
   },
   "file_extension": ".py",
   "mimetype": "text/x-python",
   "name": "python",
   "nbconvert_exporter": "python",
   "pygments_lexer": "ipython3",
   "version": "3.9.5"
  }
 },
 "nbformat": 4,
 "nbformat_minor": 2
}
