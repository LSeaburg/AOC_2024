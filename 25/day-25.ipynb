{
 "cells": [
  {
   "cell_type": "code",
   "execution_count": 13,
   "metadata": {},
   "outputs": [],
   "source": [
    "def read_lock(input, sym=\"#\"):\n",
    "  heights = []\n",
    "  for x in range(5):\n",
    "    height = 0\n",
    "    while input[height][x] == sym:\n",
    "      height += 1\n",
    "    heights.append(height - 1)\n",
    "  return tuple(heights)"
   ]
  },
  {
   "cell_type": "code",
   "execution_count": 14,
   "metadata": {},
   "outputs": [],
   "source": [
    "def read_key(input):\n",
    "  inverse_key = read_lock(input, sym=\".\")\n",
    "  return tuple(5 - h for h in inverse_key)"
   ]
  },
  {
   "cell_type": "code",
   "execution_count": 15,
   "metadata": {},
   "outputs": [],
   "source": [
    "def key_fits(key, lock):\n",
    "  for x in range(5):\n",
    "    if key[x] + lock[x] > 5:\n",
    "      return False\n",
    "  return True"
   ]
  },
  {
   "cell_type": "code",
   "execution_count": 16,
   "metadata": {},
   "outputs": [],
   "source": [
    "locks = set()\n",
    "keys = set()\n",
    "\n",
    "with open(\"input.txt\", \"r\") as file:\n",
    "  line = file.readline().strip()\n",
    "  while line:\n",
    "    block = [line]\n",
    "    for _ in range(6):\n",
    "      block.append(file.readline().strip())\n",
    "    if block[0] == \"#####\":\n",
    "      locks.add(read_lock(block))\n",
    "    else:\n",
    "      keys.add(read_key(block))\n",
    "    \n",
    "    line = file.readline().strip() # newline between blocks\n",
    "    line = file.readline().strip()\n"
   ]
  },
  {
   "cell_type": "code",
   "execution_count": 17,
   "metadata": {},
   "outputs": [
    {
     "name": "stdout",
     "output_type": "stream",
     "text": [
      "2840\n"
     ]
    }
   ],
   "source": [
    "count = 0\n",
    "\n",
    "for key in keys:\n",
    "  for lock in locks:\n",
    "    if key_fits(key, lock):\n",
    "      count += 1\n",
    "\n",
    "print(count)\n"
   ]
  },
  {
   "cell_type": "code",
   "execution_count": null,
   "metadata": {},
   "outputs": [],
   "source": []
  }
 ],
 "metadata": {
  "kernelspec": {
   "display_name": "Python 3",
   "language": "python",
   "name": "python3"
  },
  "language_info": {
   "codemirror_mode": {
    "name": "ipython",
    "version": 3
   },
   "file_extension": ".py",
   "mimetype": "text/x-python",
   "name": "python",
   "nbconvert_exporter": "python",
   "pygments_lexer": "ipython3",
   "version": "3.9.5"
  }
 },
 "nbformat": 4,
 "nbformat_minor": 2
}
