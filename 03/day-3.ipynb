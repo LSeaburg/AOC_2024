{
 "cells": [
  {
   "cell_type": "code",
   "execution_count": 1,
   "metadata": {},
   "outputs": [],
   "source": [
    "import re"
   ]
  },
  {
   "cell_type": "code",
   "execution_count": 2,
   "metadata": {},
   "outputs": [],
   "source": [
    "def process_mul_instruction(s):\n",
    "  nums = list(map(int, s[4:-1].split(',')))\n",
    "  return nums[0] * nums[1]"
   ]
  },
  {
   "cell_type": "code",
   "execution_count": 3,
   "metadata": {},
   "outputs": [],
   "source": [
    "def process_instruction(s, enabled):\n",
    "  if s == \"do()\":\n",
    "    return [0, True]\n",
    "  elif s == \"don't()\" or enabled == False:\n",
    "    return [0, False]\n",
    "  return [process_mul_instruction(s), enabled]\n",
    "  "
   ]
  },
  {
   "cell_type": "code",
   "execution_count": 4,
   "metadata": {},
   "outputs": [],
   "source": [
    "f = open(\"input.txt\")\n",
    "lines = f.readlines()"
   ]
  },
  {
   "cell_type": "code",
   "execution_count": 5,
   "metadata": {},
   "outputs": [
    {
     "name": "stdout",
     "output_type": "stream",
     "text": [
      "196826776\n"
     ]
    }
   ],
   "source": [
    "pattern = r\"mul\\(\\d+,\\d+\\)\"\n",
    "\n",
    "sum = 0\n",
    "for line in lines:\n",
    "  for match in re.findall(pattern, line):\n",
    "    sum = sum + process_mul_instruction(match)\n",
    "\n",
    "print(sum)\n",
    "    "
   ]
  },
  {
   "cell_type": "code",
   "execution_count": null,
   "metadata": {},
   "outputs": [],
   "source": [
    "## Part 2"
   ]
  },
  {
   "cell_type": "code",
   "execution_count": 7,
   "metadata": {},
   "outputs": [
    {
     "name": "stdout",
     "output_type": "stream",
     "text": [
      "106780429\n"
     ]
    }
   ],
   "source": [
    "pattern = r\"mul\\(\\d+,\\d+\\)|do\\(\\)|don't\\(\\)\"\n",
    "\n",
    "uncorrupted_sum = 0\n",
    "enabled = True\n",
    "\n",
    "for line in lines:\n",
    "  for match in re.findall(pattern, line):\n",
    "    [result, enabled] = process_instruction(match, enabled)\n",
    "    uncorrupted_sum = uncorrupted_sum + result\n",
    "\n",
    "print(uncorrupted_sum)"
   ]
  },
  {
   "cell_type": "code",
   "execution_count": null,
   "metadata": {},
   "outputs": [],
   "source": []
  }
 ],
 "metadata": {
  "kernelspec": {
   "display_name": "Python 3",
   "language": "python",
   "name": "python3"
  },
  "language_info": {
   "codemirror_mode": {
    "name": "ipython",
    "version": 3
   },
   "file_extension": ".py",
   "mimetype": "text/x-python",
   "name": "python",
   "nbconvert_exporter": "python",
   "pygments_lexer": "ipython3",
   "version": "3.9.5"
  }
 },
 "nbformat": 4,
 "nbformat_minor": 2
}
