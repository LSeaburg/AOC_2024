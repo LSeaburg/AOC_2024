{
 "cells": [
  {
   "cell_type": "code",
   "execution_count": 724,
   "metadata": {},
   "outputs": [],
   "source": [
    "from collections import deque\n",
    "from itertools import combinations"
   ]
  },
  {
   "cell_type": "code",
   "execution_count": 725,
   "metadata": {},
   "outputs": [],
   "source": [
    "def get_wire_val(w1, w2, logic):\n",
    "  if logic == \"AND\":\n",
    "    return w1 & w2\n",
    "  if logic == \"OR\":\n",
    "    return w1 | w2\n",
    "  if logic == \"XOR\":\n",
    "    return w1 ^ w2\n",
    "  Exception(\"Logic command not reconigzed\")"
   ]
  },
  {
   "cell_type": "code",
   "execution_count": 726,
   "metadata": {},
   "outputs": [],
   "source": [
    "def read_input():\n",
    "  wire_vals = dict()\n",
    "  wire_connections = deque()\n",
    "  max_z = 0\n",
    "\n",
    "  with open(\"input.txt\", \"r\") as file:\n",
    "    # Read initial values\n",
    "    line = file.readline().strip()\n",
    "    while line:\n",
    "      vals = line.split(\":\")\n",
    "      wire_vals.update({vals[0]: int(vals[1].strip())})\n",
    "      line = file.readline().strip()\n",
    "\n",
    "    # Read equations\n",
    "    line = file.readline().strip()\n",
    "    while line:\n",
    "      vals = line.split(\" \")\n",
    "      wire_connections.append((vals[0], vals[1], vals[2], vals[4]))\n",
    "      if vals[4][0] == \"z\":\n",
    "        z_int = int(vals[4][1:])\n",
    "        max_z = max(max_z, z_int)\n",
    "      line = file.readline().strip()\n",
    "      \n",
    "  return wire_vals, wire_connections, max_z"
   ]
  },
  {
   "cell_type": "code",
   "execution_count": 727,
   "metadata": {},
   "outputs": [],
   "source": [
    "def solve_wires(wire_vals, _wire_connections):\n",
    "  wire_connections = _wire_connections.copy()\n",
    "  while wire_connections:\n",
    "    (wire1, logic, wire2, result) = wire_connections.popleft()\n",
    "    if wire1 in wire_vals and wire2 in wire_vals:\n",
    "      wire_vals.update({result : get_wire_val(wire_vals[wire1], wire_vals[wire2], logic)})\n",
    "    else:\n",
    "      wire_connections.append((wire1, logic, wire2, result))\n",
    "  return"
   ]
  },
  {
   "cell_type": "code",
   "execution_count": 728,
   "metadata": {},
   "outputs": [],
   "source": [
    "# Sets values on x and y wires\n",
    "def set_wire(value, wire, length, wire_vals):\n",
    "  bin_str = bin(value)[2:]\n",
    "  for i in range(length):\n",
    "    bit = 0 if i > len(bin_str) - 1 else int(bin_str[-i - 1])\n",
    "    wire_str = wire + \"0\" + str(i) if i < 10 else wire + str(i)\n",
    "    wire_vals.update({wire_str : bit})"
   ]
  },
  {
   "cell_type": "code",
   "execution_count": 729,
   "metadata": {},
   "outputs": [],
   "source": [
    "# Gets the value on an x, y, or z wire\n",
    "def get_total_wire_val(wire, length, wire_vals):\n",
    "  total = 0\n",
    "  for i in range(length):\n",
    "    wire_str = wire + \"0\" + str(i) if i < 10 else wire + str(i)\n",
    "    total += wire_vals[wire_str] * (2 ** i)\n",
    "  return total"
   ]
  },
  {
   "cell_type": "code",
   "execution_count": 730,
   "metadata": {},
   "outputs": [],
   "source": [
    "def test_wire_addition(x, y, length, wire_connections):\n",
    "  wire_vals = dict()\n",
    "  set_wire(x, \"x\", length, wire_vals)\n",
    "  set_wire(y, \"y\", length, wire_vals)\n",
    "  solve_wires(wire_vals, wire_connections)\n",
    "  z = get_total_wire_val(\"z\", length + 1, wire_vals)\n",
    "  # print(wire_vals)\n",
    "  return z == x + y"
   ]
  },
  {
   "cell_type": "code",
   "execution_count": 731,
   "metadata": {},
   "outputs": [],
   "source": [
    "# Collection of test cases to run against a wire network\n",
    "def test_level(val, length, wire_connections):\n",
    "  return (test_wire_addition(int(2 ** (val-1)), int(2 ** (val-1)), length, wire_connections) and\n",
    "          test_wire_addition(2 ** val, 0, length, wire_connections) and\n",
    "          test_wire_addition(0, 2 ** val, length, wire_connections) and\n",
    "          test_wire_addition(2 ** val, 2 ** val, length, wire_connections) and\n",
    "          test_wire_addition(2 ** (val+1) - 1, 2 ** (val) - 1, length, wire_connections) and\n",
    "          test_wire_addition(2 ** (val) - 1, 2 ** (val+1) - 1, length, wire_connections))"
   ]
  },
  {
   "cell_type": "code",
   "execution_count": 732,
   "metadata": {},
   "outputs": [],
   "source": [
    "def dfs(u, graph):\n",
    "  reach = graph[u] | {u}\n",
    "  for v in graph[u]:\n",
    "    reach = reach | dfs(v, graph)\n",
    "  return reach"
   ]
  },
  {
   "cell_type": "code",
   "execution_count": 733,
   "metadata": {},
   "outputs": [],
   "source": [
    "def swap_wires(pair, wire_connections, inverse_graph):\n",
    "  (w1, w2) = pair\n",
    "  if w1 == w2:\n",
    "    return\n",
    "  # This will make wires recursive and unsolvable\n",
    "  if w2 in dfs(w1, inverse_graph) or w1 in dfs(w2, inverse_graph):\n",
    "    return\n",
    "  \n",
    "  c1 = None\n",
    "  c2 = None\n",
    "  for connecition in wire_connections:\n",
    "    if connecition[3] == w1:\n",
    "      c1 = connecition\n",
    "    if connecition[3] == w2:\n",
    "      c2 = connecition\n",
    "\n",
    "  if not c1 or not c2:\n",
    "    return\n",
    "\n",
    "  new_c1 = (c1[0], c1[1], c1[2], c2[3])\n",
    "  new_c2 = (c2[0], c2[1], c2[2], c1[3])\n",
    "\n",
    "  wire_connections.remove(c1)\n",
    "  wire_connections.remove(c2)\n",
    "\n",
    "  wire_connections.append(new_c1)\n",
    "  wire_connections.append(new_c2)"
   ]
  },
  {
   "cell_type": "code",
   "execution_count": 734,
   "metadata": {},
   "outputs": [],
   "source": [
    "def add_edge(u, v, graph):\n",
    "  if u in graph:\n",
    "    graph[u].add(v)\n",
    "  else:\n",
    "    graph.update({u: {v}})\n",
    "  if v not in graph:\n",
    "    graph.update({v: set()})"
   ]
  },
  {
   "cell_type": "code",
   "execution_count": 735,
   "metadata": {},
   "outputs": [],
   "source": [
    "def calculate_graphs(wire_connections):\n",
    "  # Create directed graphs of wire inputs\n",
    "  graph = dict()\n",
    "  inverse_graph = dict()\n",
    "\n",
    "  for connection in wire_connections:\n",
    "    (wire1, _, wire2, result) = connection\n",
    "\n",
    "    add_edge(wire1, result, graph)\n",
    "    add_edge(wire2, result, graph)\n",
    "\n",
    "    add_edge(result, wire1, inverse_graph)\n",
    "    add_edge(result, wire2, inverse_graph)\n",
    "\n",
    "  return graph, inverse_graph"
   ]
  },
  {
   "cell_type": "code",
   "execution_count": 736,
   "metadata": {},
   "outputs": [],
   "source": [
    "def get_intermediate_wires(num, graph, inverse_graph):\n",
    "  level_0 = \"0\" + str(num) if num < 10 else str(num)\n",
    "  level_1 = \"0\" + str(num+1) if num < 10 + 1 else str(num + 1)\n",
    "\n",
    "  forward = dfs(\"x\" + level_0, graph) | dfs(\"y\" + level_0, graph)\n",
    "  lookback = dfs(\"z\" + level_0, inverse_graph) | dfs(\"z\" + level_1, inverse_graph)\n",
    "\n",
    "  return (forward) & lookback"
   ]
  },
  {
   "cell_type": "code",
   "execution_count": 737,
   "metadata": {},
   "outputs": [
    {
     "name": "stdout",
     "output_type": "stream",
     "text": [
      "51837135476040\n"
     ]
    }
   ],
   "source": [
    "# Read input\n",
    "wire_vals, wire_connections, length = read_input()\n",
    "\n",
    "# Part 1\n",
    "solve_wires(wire_vals, wire_connections)\n",
    "print(get_total_wire_val(\"z\", length + 1, wire_vals))\n",
    "\n",
    "# print(wire_connections)"
   ]
  },
  {
   "cell_type": "code",
   "execution_count": 738,
   "metadata": {},
   "outputs": [
    {
     "name": "stdout",
     "output_type": "stream",
     "text": [
      "14\n",
      "break line hit at ('z14', 'vss')\n",
      "22\n",
      "break line hit at ('kdh', 'hjf')\n",
      "31\n",
      "break line hit at ('kpp', 'z31')\n",
      "35\n",
      "break line hit at ('z35', 'sgj')\n"
     ]
    }
   ],
   "source": [
    "# Part 2\n",
    "swapped = []\n",
    "\n",
    "for i in range(length):\n",
    "  if not test_level(i, length, wire_connections):\n",
    "    \n",
    "    # print(i)\n",
    "    graph, inverse_graph = calculate_graphs(wire_connections)\n",
    "    test_swap = get_intermediate_wires(i, graph, inverse_graph)\n",
    "    \n",
    "    # print(test_swap)\n",
    "    # swap wires\n",
    "    for pair in combinations(test_swap, 2):\n",
    "      # print(pair)\n",
    "      swap_wires(pair, wire_connections, inverse_graph)\n",
    "      if not (test_level(i, length, wire_connections) and \n",
    "              test_level(i+1, length, wire_connections)):\n",
    "        # Set wires back\n",
    "        swap_wires(pair, wire_connections, inverse_graph)\n",
    "      else:\n",
    "        swapped += pair\n",
    "        print(i)\n",
    "        print(\"break line hit at\", pair)\n",
    "        break\n",
    "\n",
    "# print(wire_connections)"
   ]
  },
  {
   "cell_type": "code",
   "execution_count": 739,
   "metadata": {},
   "outputs": [
    {
     "name": "stdout",
     "output_type": "stream",
     "text": [
      "hjf,kdh,kpp,sgj,vss,z14,z31,z35\n"
     ]
    }
   ],
   "source": [
    "ans_str = \"\"\n",
    "for wire in sorted(swapped):\n",
    "  ans_str += wire + \",\"\n",
    "\n",
    "print(ans_str[:-1])"
   ]
  },
  {
   "cell_type": "code",
   "execution_count": 740,
   "metadata": {},
   "outputs": [
    {
     "data": {
      "text/plain": [
       "True"
      ]
     },
     "execution_count": 740,
     "metadata": {},
     "output_type": "execute_result"
    }
   ],
   "source": [
    "test_wire_addition(2 ** 36 - 1, 2 ** 35 - 1, length, wire_connections)"
   ]
  },
  {
   "cell_type": "code",
   "execution_count": 741,
   "metadata": {},
   "outputs": [
    {
     "data": {
      "text/plain": [
       "True"
      ]
     },
     "execution_count": 741,
     "metadata": {},
     "output_type": "execute_result"
    }
   ],
   "source": [
    "wire_vals, wire_connections, length = read_input()\n",
    "\n",
    "# These are the correct answers\n",
    "swap_wires((\"vss\", \"z14\"), wire_connections, inverse_graph)\n",
    "swap_wires((\"hjf\", \"kdh\"), wire_connections, inverse_graph)\n",
    "swap_wires((\"z31\", \"kpp\"), wire_connections, inverse_graph)\n",
    "swap_wires((\"sgj\", \"z35\"), wire_connections, inverse_graph)\n",
    "\n",
    "for i in range(length):\n",
    "  if not test_level(i, length, wire_connections):\n",
    "    print(i)\n",
    "\n",
    "test_wire_addition(53457345234, 234786456345, length, wire_connections)"
   ]
  },
  {
   "cell_type": "code",
   "execution_count": null,
   "metadata": {},
   "outputs": [],
   "source": []
  }
 ],
 "metadata": {
  "kernelspec": {
   "display_name": "Python 3",
   "language": "python",
   "name": "python3"
  },
  "language_info": {
   "codemirror_mode": {
    "name": "ipython",
    "version": 3
   },
   "file_extension": ".py",
   "mimetype": "text/x-python",
   "name": "python",
   "nbconvert_exporter": "python",
   "pygments_lexer": "ipython3",
   "version": "3.9.5"
  }
 },
 "nbformat": 4,
 "nbformat_minor": 2
}
