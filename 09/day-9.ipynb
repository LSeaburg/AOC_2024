{
 "cells": [
  {
   "cell_type": "code",
   "execution_count": 147,
   "metadata": {},
   "outputs": [],
   "source": [
    "with open(\"input.txt\", \"r\") as file:\n",
    "    disk_map = list(map(int, file.readline().strip()))"
   ]
  },
  {
   "cell_type": "code",
   "execution_count": 148,
   "metadata": {},
   "outputs": [],
   "source": [
    "file_space = disk_map[::2]\n",
    "free_space = disk_map[1::2]"
   ]
  },
  {
   "cell_type": "code",
   "execution_count": 149,
   "metadata": {},
   "outputs": [],
   "source": [
    "real_space = []\n",
    "\n",
    "for i in range(len(file_space) - 1):\n",
    "  for _ in range(file_space[i]):\n",
    "    real_space.append(i)\n",
    "  for _ in range(free_space[i]):\n",
    "    real_space.append(-1)\n",
    "  \n",
    "for _ in range(file_space[-1]):\n",
    "  real_space.append(i+1)\n"
   ]
  },
  {
   "cell_type": "code",
   "execution_count": 150,
   "metadata": {},
   "outputs": [],
   "source": [
    "while -1 in real_space:\n",
    "  i = real_space.index(-1)\n",
    "\n",
    "  num = -1\n",
    "  while num == -1:\n",
    "    num = real_space.pop()\n",
    "\n",
    "  real_space[i] = num"
   ]
  },
  {
   "cell_type": "code",
   "execution_count": 151,
   "metadata": {},
   "outputs": [
    {
     "data": {
      "text/plain": [
       "6378826667552"
      ]
     },
     "execution_count": 151,
     "metadata": {},
     "output_type": "execute_result"
    }
   ],
   "source": [
    "checksum = 0\n",
    "for i, id in enumerate(real_space):\n",
    "  checksum += i * id\n",
    "\n",
    "checksum"
   ]
  },
  {
   "cell_type": "code",
   "execution_count": 152,
   "metadata": {},
   "outputs": [],
   "source": [
    "## Part 2"
   ]
  },
  {
   "cell_type": "code",
   "execution_count": 153,
   "metadata": {},
   "outputs": [],
   "source": [
    "file_space = disk_map[::2]\n",
    "free_space = disk_map[1::2]\n",
    "\n",
    "free_space.append(0)"
   ]
  },
  {
   "cell_type": "code",
   "execution_count": 154,
   "metadata": {},
   "outputs": [],
   "source": [
    "enumerated_file_space = []\n",
    "for i, size in enumerate(file_space):\n",
    "  enumerated_file_space.append([size, i, free_space[i]])\n",
    "\n",
    "enumerated_file_space\n",
    "reordered_enumerated_file_space = enumerated_file_space.copy()"
   ]
  },
  {
   "cell_type": "code",
   "execution_count": 155,
   "metadata": {},
   "outputs": [],
   "source": [
    "for i in range(len(enumerated_file_space) - 1, -1, -1):\n",
    "  file = enumerated_file_space[i]\n",
    "  for j, f in enumerate(reordered_enumerated_file_space):\n",
    "    move_to_index = -1\n",
    "    if f[1] == file[1]:\n",
    "      break\n",
    "    if f[2] >= file[0]:\n",
    "      move_to_index = j\n",
    "      break\n",
    "  if move_to_index != -1:\n",
    "    index = -1\n",
    "    for j in range(len(reordered_enumerated_file_space)):\n",
    "      if reordered_enumerated_file_space[j][1] == file[1]:\n",
    "        index = j\n",
    "        break\n",
    "    # Update freespace\n",
    "    reordered_enumerated_file_space[index-1][2] = (reordered_enumerated_file_space[index-1][2] +\n",
    "                                               reordered_enumerated_file_space[index][2] + \n",
    "                                               reordered_enumerated_file_space[index][0])\n",
    "    reordered_enumerated_file_space[index][2] = (reordered_enumerated_file_space[move_to_index][2] -\n",
    "                                                 reordered_enumerated_file_space[index][0])\n",
    "    reordered_enumerated_file_space[move_to_index][2] = 0\n",
    "\n",
    "    reordered_enumerated_file_space.remove(file)\n",
    "    reordered_enumerated_file_space.insert(move_to_index + 1, file)"
   ]
  },
  {
   "cell_type": "code",
   "execution_count": 156,
   "metadata": {},
   "outputs": [],
   "source": [
    "real_space = []\n",
    "\n",
    "for file in reordered_enumerated_file_space:\n",
    "  for _ in range(file[0]):\n",
    "    real_space.append(file[1])\n",
    "  for _ in range(file[2]):\n",
    "    real_space.append(-1)"
   ]
  },
  {
   "cell_type": "code",
   "execution_count": 157,
   "metadata": {},
   "outputs": [
    {
     "data": {
      "text/plain": [
       "6413328569890"
      ]
     },
     "execution_count": 157,
     "metadata": {},
     "output_type": "execute_result"
    }
   ],
   "source": [
    "checksum = 0\n",
    "for i, id in enumerate(real_space):\n",
    "  if id != -1:\n",
    "    checksum += i * id\n",
    "\n",
    "checksum"
   ]
  },
  {
   "cell_type": "code",
   "execution_count": null,
   "metadata": {},
   "outputs": [],
   "source": []
  }
 ],
 "metadata": {
  "kernelspec": {
   "display_name": "Python 3",
   "language": "python",
   "name": "python3"
  },
  "language_info": {
   "codemirror_mode": {
    "name": "ipython",
    "version": 3
   },
   "file_extension": ".py",
   "mimetype": "text/x-python",
   "name": "python",
   "nbconvert_exporter": "python",
   "pygments_lexer": "ipython3",
   "version": "3.9.5"
  }
 },
 "nbformat": 4,
 "nbformat_minor": 2
}
