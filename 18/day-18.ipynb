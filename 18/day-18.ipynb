{
 "cells": [
  {
   "cell_type": "code",
   "execution_count": 69,
   "metadata": {},
   "outputs": [],
   "source": [
    "from collections import namedtuple\n",
    "from collections import deque "
   ]
  },
  {
   "cell_type": "code",
   "execution_count": 70,
   "metadata": {},
   "outputs": [],
   "source": [
    "Position = namedtuple(\"Position\", [\"x\", \"y\"])"
   ]
  },
  {
   "cell_type": "code",
   "execution_count": 71,
   "metadata": {},
   "outputs": [],
   "source": [
    "def get_neighbors(cur, barriers):\n",
    "  n = []\n",
    "  if not Position(cur.x, cur.y + 1) in barriers:\n",
    "    n.append(Position(cur.x, cur.y + 1))\n",
    "  if not Position(cur.x, cur.y - 1) in barriers:\n",
    "    n.append(Position(cur.x, cur.y - 1))\n",
    "  if not Position(cur.x + 1, cur.y) in barriers:\n",
    "    n.append(Position(cur.x + 1, cur.y))\n",
    "  if not Position(cur.x - 1, cur.y) in barriers:\n",
    "    n.append(Position(cur.x - 1, cur.y))\n",
    "  return n"
   ]
  },
  {
   "cell_type": "code",
   "execution_count": 72,
   "metadata": {},
   "outputs": [],
   "source": [
    "def find_path(start, end, barriers):\n",
    "  to_investigate = deque([(start, [start])])\n",
    "  seen = set()\n",
    "\n",
    "  while to_investigate:\n",
    "    cur, path = to_investigate.popleft()\n",
    "\n",
    "    neighbors = get_neighbors(cur, barriers)\n",
    "    for neighbor in neighbors:\n",
    "\n",
    "      if neighbor not in seen:\n",
    "        seen.add(neighbor)\n",
    "        \n",
    "        if neighbor == end:\n",
    "          return path + [neighbor]\n",
    "\n",
    "        to_investigate.append((neighbor, path + [neighbor]))\n",
    "\n",
    "  return []"
   ]
  },
  {
   "cell_type": "code",
   "execution_count": 73,
   "metadata": {},
   "outputs": [],
   "source": [
    "def find_last_barrier(start, end, corrupted_bytes, borders):\n",
    "  first = 0\n",
    "  last = len(corrupted_bytes) - 1\n",
    "\n",
    "  while last - first > 1:\n",
    "    mid = int((first + last) / 2)\n",
    "    if find_path(start, end, borders + corrupted_bytes[:mid]):\n",
    "      first = mid\n",
    "    else:\n",
    "      last = mid\n",
    "\n",
    "  if find_path(start, end, borders + corrupted_bytes[:first]):\n",
    "    return corrupted_bytes[first]\n",
    "\n",
    "  return corrupted_bytes[last]"
   ]
  },
  {
   "cell_type": "code",
   "execution_count": 74,
   "metadata": {},
   "outputs": [],
   "source": [
    "corrupted_bytes = []\n",
    "\n",
    "BOUND = 70\n",
    "FIRST_BYTES = 1024\n",
    "\n",
    "# BOUND = 6\n",
    "# FIRST_BYTES = 12\n",
    "\n",
    "with open(\"input.txt\", \"r\") as file:\n",
    "    line = file.readline()\n",
    "    while line:\n",
    "      [x, y] = list(map(int, line.strip().split(\",\")))\n",
    "      corrupted_bytes.append(Position(x, y))\n",
    "      line = file.readline()"
   ]
  },
  {
   "cell_type": "code",
   "execution_count": 75,
   "metadata": {},
   "outputs": [],
   "source": [
    "barriers = corrupted_bytes[:FIRST_BYTES]\n",
    "borders = []\n",
    "\n",
    "for i in range(BOUND + 1):\n",
    "  borders.append(Position(-1, i))\n",
    "  borders.append(Position(i, -1))\n",
    "  borders.append(Position(BOUND + 1, i))\n",
    "  borders.append(Position(i, BOUND + 1))\n",
    "\n",
    "start = Position(0, 0)\n",
    "end = Position(BOUND, BOUND)"
   ]
  },
  {
   "cell_type": "code",
   "execution_count": 76,
   "metadata": {},
   "outputs": [
    {
     "name": "stdout",
     "output_type": "stream",
     "text": [
      "316\n"
     ]
    }
   ],
   "source": [
    "path = find_path(start, end, barriers + borders)\n",
    "\n",
    "print(len(path) - 1)"
   ]
  },
  {
   "cell_type": "code",
   "execution_count": 77,
   "metadata": {},
   "outputs": [
    {
     "name": "stdout",
     "output_type": "stream",
     "text": [
      "45,18\n"
     ]
    }
   ],
   "source": [
    "pos = find_last_barrier(start, end, corrupted_bytes, borders)\n",
    "print(str(pos.x) + \",\" + str(pos.y))"
   ]
  },
  {
   "cell_type": "code",
   "execution_count": 78,
   "metadata": {},
   "outputs": [
    {
     "name": "stdout",
     "output_type": "stream",
     "text": [
      "OOOOOOO..#OOOOOOO..#...............#...................................\n",
      ".#####O###O##..#O#.#........##.####....................................\n",
      ".#OOO#OOOOO..#.#O#.#...........#.....#.................................\n",
      "##O#O#######.#.#O#.##.######.###.#.....................................\n",
      "OOO#OOOOOOO#...#O#...#.....#.#...#.....................................\n",
      "O#########O#.###O###.#.###.#.#.##..##..#...............................\n",
      "O....#...#O#.#OOO#.....#.....#.#...#...................................\n",
      "O###.#.###O###O#..####.#######.#####..#................................\n",
      "O#.#.#....O#OOO#.#...#.#.......#.......................................\n",
      "O#...#####O#O#..##.#..##.####.#.....#..................................\n",
      "OOO#.....#OOO#.#...#.#...#...#.........................................\n",
      "##O#####.#######.###.#.###.......#.....................................\n",
      "OOO#...#.#.....#.#.#...#...#...........#...............................\n",
      "O#####.#.#.###.#.#.####.#.......#......................................\n",
      "O#OOO#.#...#.#.#.#.....................................................\n",
      "O#O#O#.#####.#.#.#...#....#............................................\n",
      "OOO#OOOOOOO#.#...#.#...................................................\n",
      "##########O#.####....##......#.........................................\n",
      "OOO..#OOO#O#...........#...............................................\n",
      "O#O###O#O#O#..######...................................................\n",
      "O#OOOOO#OOO#.#.........................................................\n",
      "O##########..#............#......................#.....................\n",
      "O#.....#.....#.#.......#...............................................\n",
      "O###..##...#.#..#................#.....................................\n",
      "OOO#...........#.....#...........................#.....................\n",
      "##O###.###.............................................................\n",
      ".#OOO#.#.....#.#.......................................................\n",
      ".###O##....#..#..................................#........#...#........\n",
      "...#OOO#...............................................................\n",
      ".#.###O#.#......#...#.........................##.#..........#....#.....\n",
      "...#OOO#.........................................#.....................\n",
      "....O###.#...........................#..........#......................\n",
      ".#..OO.................................................................\n",
      "....#O...................................#.......#.......#.##.##.#.....\n",
      ".....O.....................................#.....#.................#...\n",
      ".....O...#.......................#.#.........###.###.........##.#.#....\n",
      ".....O.................................#.....#...........#.#...........\n",
      ".....O...............................#.###..##.######....#.#...##......\n",
      ".....O.............................#...#...#...#.....#.#...#.#.........\n",
      ".....O...#.......................###.###.###.###.###.......#.##..###...\n",
      ".....O...............................#...........#.......#.............\n",
      ".....O...................#......##.#######.##########..#..##.#.#..##...\n",
      ".....O...........................#.#.....#.#.........#.#.#...#.#...#...\n",
      ".....O...................#.##......#.#.#.###.###.....##..#.##..###.#...\n",
      ".....O.........................#...#.#.#.#...#.....#.....#.........#...\n",
      ".....O...................#.####.##..##.#.#.##..###.###..#.##########...\n",
      ".....O...............#.....#.......#...#...#.........#.#.......#.......\n",
      ".....O.......................#.#.###.######.#....#...#.#.#####.#######.\n",
      ".....O.......#.........#.....#...#...#.......#...#...#.#...#.#.....#...\n",
      ".....O............#....#.##.######.#.#.#####.#...#...#.###.#.#####.#..#\n",
      ".....O.....................#.....#.#...#.....#.........#...#...#.......\n",
      ".....O..................##.###.#.#.#####.####..###.#.#.#.###.#.#.#.#...\n",
      ".....O...................#...#.#.......#OOO#.....#.....#.....#.#.#.#...\n",
      ".....O.................#.###.#####.#####O#O#####.#......####.###.......\n",
      ".....O...............#.....#.....#.#...#O#OOOOO#...........#.#.........\n",
      ".....O...............#..##.#####.###.#.#O#####O###.#########.#..#...##.\n",
      ".....O.....................#.....#...#.#O#...#OOO#...#.......#.....#...\n",
      ".....O.....................#....##.###.#O###..##O#..##.########...#..##\n",
      ".....O.................#.....#.....#...#OOOOO#.#O#.#...#.......#.....#.\n",
      ".....O.................#.#.###.#####.##.####O#.#O#.#.###.#####.#...###.\n",
      ".....O...................#.....#.....#.#OOO#OOO#O#.#.#...#...#.#...#...\n",
      ".....O...........#.....#.#..####.#####.#O#O###O#O###.#.##..###.####.##.\n",
      ".....O...........#.........#...#.#OOOOO#O#OOOOO#O#...#.....#...........\n",
      ".....O.......................#.#.#O###O#O.######O#.#######.#.#########.\n",
      ".....O...........................#O#.#O#O#OOOOOOO#.#...#...#...#.....#.\n",
      ".....O.............#...#.#...###.#O#.#O#O#O######..#.#.#######.###.###.\n",
      ".....O.....................#.#...#OOO#OOO#O#OOOOO#...#.......#...#.#...\n",
      ".....O.........#.........#####.#####O#####O#O###O####.######.###.#.#.##\n",
      ".....O...................#.....#...#O#...#OOO#.#OOO..#OOOOO#.....#.#.#.\n",
      ".....O...........................#.#O###.####...##O###O###O#######.#.#.\n",
      ".....OOOOOOOOOOOOOOOOOOOOOOOOOOOOOOOO............#OOOOO..#OOOOOOOOOOOOO\n",
      "\n"
     ]
    }
   ],
   "source": [
    "scene = [[\".\" for _ in range(BOUND + 1)] for _ in range(BOUND + 1)]\n",
    "\n",
    "for pos in corrupted_bytes[:1024]:\n",
    "  (x, y) = pos\n",
    "  scene[y][x] = \"#\"\n",
    "\n",
    "for pos in path:\n",
    "  (x, y) = pos\n",
    "  scene[y][x] = \"O\"\n",
    "\n",
    "str = \"\"\n",
    "for row in scene:\n",
    "  for sym in row:\n",
    "    str += sym\n",
    "  str += '\\n'\n",
    "print(str)"
   ]
  },
  {
   "cell_type": "code",
   "execution_count": null,
   "metadata": {},
   "outputs": [],
   "source": []
  }
 ],
 "metadata": {
  "kernelspec": {
   "display_name": "Python 3",
   "language": "python",
   "name": "python3"
  },
  "language_info": {
   "codemirror_mode": {
    "name": "ipython",
    "version": 3
   },
   "file_extension": ".py",
   "mimetype": "text/x-python",
   "name": "python",
   "nbconvert_exporter": "python",
   "pygments_lexer": "ipython3",
   "version": "3.9.5"
  }
 },
 "nbformat": 4,
 "nbformat_minor": 2
}
