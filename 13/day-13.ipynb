{
 "cells": [
  {
   "cell_type": "code",
   "execution_count": 166,
   "metadata": {},
   "outputs": [],
   "source": [
    "import numpy as np"
   ]
  },
  {
   "cell_type": "code",
   "execution_count": 167,
   "metadata": {},
   "outputs": [],
   "source": [
    "def process_line(line, ch):\n",
    "  line.strip()\n",
    "  val_str = line.split(\":\")[1]\n",
    "  val_strs = val_str.split(\",\")\n",
    "  x = int(val_strs[0].split(ch)[1])\n",
    "  y = int(val_strs[1].split(ch)[1])\n",
    "  return x, y"
   ]
  },
  {
   "cell_type": "code",
   "execution_count": 168,
   "metadata": {},
   "outputs": [],
   "source": [
    "def is_almost_integer(num):\n",
    "  return abs(num - round(num)) < 1e-3"
   ]
  },
  {
   "cell_type": "code",
   "execution_count": 169,
   "metadata": {},
   "outputs": [],
   "source": [
    "mach_params = []\n",
    "new_mach_params = []\n",
    "\n",
    "with open(\"input.txt\", \"r\") as file:\n",
    "    line = file.readline()  # Button A\n",
    "    while line:\n",
    "        ax, ay = process_line(line, \"+\")\n",
    "        line = file.readline()  # Button B\n",
    "        bx, by = process_line(line, \"+\")\n",
    "        line = file.readline()  # Prize\n",
    "        X, Y = process_line(line, \"=\")\n",
    "        line = file.readline()  # Newline Seperation\n",
    "        line = file.readline()  # Button A\n",
    "        ab = np.array([[ax, bx], [ay, by]])\n",
    "        P = np.array([X, Y])\n",
    "        new_P = np.array([10000000000000 + X, 10000000000000 + Y])\n",
    "        mach_params.append((ab, P))\n",
    "        new_mach_params.append((ab, new_P))"
   ]
  },
  {
   "cell_type": "code",
   "execution_count": 170,
   "metadata": {},
   "outputs": [
    {
     "data": {
      "text/plain": [
       "31552"
      ]
     },
     "execution_count": 170,
     "metadata": {},
     "output_type": "execute_result"
    }
   ],
   "source": [
    "cost = 0\n",
    "\n",
    "for mach in mach_params:\n",
    "  ab = mach[0]\n",
    "  P = mach[1]\n",
    "\n",
    "  moves = np.linalg.solve(ab, P)\n",
    "  if is_almost_integer(moves[0]) and is_almost_integer(moves[1]):\n",
    "    cost += 3 * moves[0] + moves[1]\n",
    "\n",
    "round(cost)"
   ]
  },
  {
   "cell_type": "code",
   "execution_count": 171,
   "metadata": {},
   "outputs": [
    {
     "data": {
      "text/plain": [
       "95273925552482"
      ]
     },
     "execution_count": 171,
     "metadata": {},
     "output_type": "execute_result"
    }
   ],
   "source": [
    "new_cost = 0\n",
    "\n",
    "for mach in new_mach_params:\n",
    "  ab = mach[0]\n",
    "  P = mach[1]\n",
    "\n",
    "  moves = np.linalg.solve(ab, P)\n",
    "  if is_almost_integer(moves[0]) and is_almost_integer(moves[1]):\n",
    "    new_cost += 3 * moves[0] + moves[1]\n",
    "\n",
    "round(new_cost)"
   ]
  },
  {
   "cell_type": "code",
   "execution_count": null,
   "metadata": {},
   "outputs": [],
   "source": []
  }
 ],
 "metadata": {
  "kernelspec": {
   "display_name": "Python 3",
   "language": "python",
   "name": "python3"
  },
  "language_info": {
   "codemirror_mode": {
    "name": "ipython",
    "version": 3
   },
   "file_extension": ".py",
   "mimetype": "text/x-python",
   "name": "python",
   "nbconvert_exporter": "python",
   "pygments_lexer": "ipython3",
   "version": "3.9.5"
  }
 },
 "nbformat": 4,
 "nbformat_minor": 2
}
