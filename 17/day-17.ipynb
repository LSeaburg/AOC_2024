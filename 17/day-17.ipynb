{
 "cells": [
  {
   "cell_type": "code",
   "execution_count": 1,
   "metadata": {},
   "outputs": [],
   "source": [
    "def get_combo_operand(operand, registers):\n",
    "  if operand == 4:\n",
    "    return registers[0]\n",
    "  if operand == 5:\n",
    "    return registers[1]\n",
    "  if operand == 6:\n",
    "    return registers[2]\n",
    "  return operand"
   ]
  },
  {
   "cell_type": "code",
   "execution_count": 2,
   "metadata": {},
   "outputs": [],
   "source": [
    "def get_output(a, b, c, program):\n",
    "  registers = [a, 0, 0]\n",
    "\n",
    "  ins_pointer = 0\n",
    "  out = \"\"\n",
    "\n",
    "  instructions = list(zip(program[::2], program[1::2]))\n",
    "\n",
    "  while ins_pointer < len(instructions):\n",
    "    (opcode, operand) = instructions[ins_pointer]\n",
    "    if opcode == 0:\n",
    "      registers[0] = int(registers[0] / (2 ** get_combo_operand(operand, registers)))\n",
    "    elif opcode == 1:\n",
    "      registers[1] = registers[1] ^ operand\n",
    "    elif opcode == 2:\n",
    "      registers[1] = get_combo_operand(operand, registers) % 8\n",
    "    elif opcode == 3:\n",
    "      ins_pointer = ins_pointer + 1 if registers[0] == 0 else operand\n",
    "    elif opcode == 4:\n",
    "      registers[1] = registers[1] ^ registers[2]\n",
    "    elif opcode == 5:\n",
    "      out = out + str(get_combo_operand(operand, registers) % 8) + \",\"\n",
    "    elif opcode == 6:\n",
    "      registers[1] = int(registers[0] / (2 ** get_combo_operand(operand, registers)))\n",
    "    elif opcode == 7:\n",
    "      registers[2] = int(registers[0] / (2 ** get_combo_operand(operand, registers)))\n",
    "\n",
    "    if opcode != 3:\n",
    "      ins_pointer = ins_pointer + 1\n",
    "\n",
    "  return out[:-1]"
   ]
  },
  {
   "cell_type": "code",
   "execution_count": 3,
   "metadata": {},
   "outputs": [],
   "source": [
    "def get_output_as_list(a, program):\n",
    "  out = get_output(a, 0, 0, program)\n",
    "  return list(map(int, out.split(\",\"))) "
   ]
  },
  {
   "cell_type": "code",
   "execution_count": 4,
   "metadata": {},
   "outputs": [],
   "source": [
    "def exponize(lst):\n",
    "  sum = 0\n",
    "  for i, num in enumerate(lst):\n",
    "    sum += num * (8 ** i)\n",
    "  return sum"
   ]
  },
  {
   "cell_type": "code",
   "execution_count": 5,
   "metadata": {},
   "outputs": [],
   "source": [
    "def find_match(program):\n",
    "\n",
    "  length = len(program)\n",
    "  a_lst = [0] * len(program)\n",
    "  a_lst[length - 1] = 1\n",
    "\n",
    "  out = get_output_as_list(exponize(a_lst), program)\n",
    "\n",
    "  pointer = length - 1\n",
    "  while pointer >= 0 and pointer < length:\n",
    "\n",
    "    out = get_output_as_list(exponize(a_lst), program)\n",
    "\n",
    "    if out[pointer] == program[pointer]:\n",
    "      pointer = pointer - 1\n",
    "    else:\n",
    "      if a_lst[pointer] == 7:\n",
    "        a_lst[pointer] = 0\n",
    "        pointer = pointer + 1\n",
    "      a_lst[pointer] = a_lst[pointer] + 1\n",
    "\n",
    "  if pointer == length:\n",
    "    return -1\n",
    "\n",
    "  return exponize(a_lst)"
   ]
  },
  {
   "cell_type": "code",
   "execution_count": 6,
   "metadata": {},
   "outputs": [],
   "source": [
    "registers = [0, 0, 0]\n",
    "program = []\n",
    "instructions = []\n",
    "\n",
    "with open(\"input.txt\", \"r\") as file:\n",
    "    line = file.readline()\n",
    "    registers[0] = int(line.split(\":\")[1].strip())\n",
    "    line = file.readline()\n",
    "    registers[1] = int(line.split(\":\")[1].strip())\n",
    "    line = file.readline()\n",
    "    registers[2] = int(line.split(\":\")[1].strip())\n",
    "    line = file.readline()\n",
    "    line = file.readline()\n",
    "    program = list(map(int, line.split(\":\")[1].strip().strip().split(\",\")))"
   ]
  },
  {
   "cell_type": "code",
   "execution_count": 7,
   "metadata": {},
   "outputs": [
    {
     "name": "stdout",
     "output_type": "stream",
     "text": [
      "2,3,6,2,1,6,1,2,1\n"
     ]
    }
   ],
   "source": [
    "out = get_output(registers[0], registers[1], registers[2], program)\n",
    "print(out)"
   ]
  },
  {
   "cell_type": "code",
   "execution_count": 8,
   "metadata": {},
   "outputs": [
    {
     "name": "stdout",
     "output_type": "stream",
     "text": [
      "90938893795561\n"
     ]
    }
   ],
   "source": [
    "print(find_match(program))"
   ]
  },
  {
   "cell_type": "code",
   "execution_count": null,
   "metadata": {},
   "outputs": [],
   "source": []
  }
 ],
 "metadata": {
  "kernelspec": {
   "display_name": "Python 3",
   "language": "python",
   "name": "python3"
  },
  "language_info": {
   "codemirror_mode": {
    "name": "ipython",
    "version": 3
   },
   "file_extension": ".py",
   "mimetype": "text/x-python",
   "name": "python",
   "nbconvert_exporter": "python",
   "pygments_lexer": "ipython3",
   "version": "3.9.5"
  }
 },
 "nbformat": 4,
 "nbformat_minor": 2
}
