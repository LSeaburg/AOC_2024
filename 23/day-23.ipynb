{
 "cells": [
  {
   "cell_type": "code",
   "execution_count": 82,
   "metadata": {},
   "outputs": [],
   "source": [
    "from typing import Set, Tuple"
   ]
  },
  {
   "cell_type": "code",
   "execution_count": 83,
   "metadata": {},
   "outputs": [],
   "source": [
    "def add_edge(graph, nodes):\n",
    "  [node1, node2] = nodes\n",
    "  \n",
    "  if node1 in graph:\n",
    "    graph[node1].add(node2)\n",
    "  else:\n",
    "    graph.update({node1: {node2}})\n",
    "\n",
    "  if node2 in graph:\n",
    "    graph[node2].add(node1)\n",
    "  else:\n",
    "    graph.update({node2: {node1}})"
   ]
  },
  {
   "cell_type": "code",
   "execution_count": 84,
   "metadata": {},
   "outputs": [],
   "source": [
    "def find_three_clique(graph):\n",
    "  cliques = set()\n",
    "  for v1 in graph:\n",
    "    for v2 in graph[v1]:\n",
    "      for v3 in graph[v2]:\n",
    "        if v3 in graph[v1]:\n",
    "          cliques.add(tuple(sorted([v1, v2, v3])))\n",
    "  return cliques"
   ]
  },
  {
   "cell_type": "code",
   "execution_count": 85,
   "metadata": {},
   "outputs": [],
   "source": [
    "def bron_kerbosch(R, P, X, graph):\n",
    "    if not P and not X:\n",
    "        yield R\n",
    "    while P:\n",
    "        v = P.pop()\n",
    "        yield from bron_kerbosch(\n",
    "            R.union({v}),\n",
    "            P.intersection(graph[v]),\n",
    "            X.intersection(graph[v]),\n",
    "            graph\n",
    "        )\n",
    "        X.add(v)"
   ]
  },
  {
   "cell_type": "code",
   "execution_count": 86,
   "metadata": {},
   "outputs": [],
   "source": [
    "def find_all_cliques(clique : Set, remaining_nodes : Set, found_cliques : Set[Tuple], graph : dict, visited : Set, level):\n",
    "  for node in remaining_nodes:\n",
    "    new_clique = clique | {node}\n",
    "\n",
    "    if not node in visited:\n",
    "      new_remaining_nodes = remaining_nodes.intersection(graph[node])\n",
    "      if new_remaining_nodes:\n",
    "        find_all_cliques(new_clique, new_remaining_nodes, found_cliques, graph, visited | {node}, level + 1)\n",
    "      else:\n",
    "        found_cliques.add(tuple(sorted(new_clique)))\n",
    "      if not level:\n",
    "        visited.add(node)\n",
    "\n",
    "  return found_cliques\n",
    "\n",
    "def find_all_cliques(R, P, X, graph, found):\n",
    "  if not P and not X:\n",
    "    found.add(tuple(sorted(R)))\n",
    "  while P:\n",
    "    v = P.pop()\n",
    "    found.union(find_all_cliques(\n",
    "      R.union({v}),\n",
    "      P.intersection(graph[v]),\n",
    "      X.intersection(graph[v]),\n",
    "      graph,\n",
    "      found\n",
    "    ))\n",
    "    X.add(v)\n",
    "  return found"
   ]
  },
  {
   "cell_type": "code",
   "execution_count": 87,
   "metadata": {},
   "outputs": [],
   "source": [
    "graph = dict()\n",
    "\n",
    "with open(\"input.txt\", \"r\") as file:\n",
    "  line = file.readline()\n",
    "  while line:\n",
    "    add_edge(graph, line.strip().split(\"-\"))\n",
    "    line = file.readline()"
   ]
  },
  {
   "cell_type": "code",
   "execution_count": 88,
   "metadata": {},
   "outputs": [
    {
     "name": "stdout",
     "output_type": "stream",
     "text": [
      "1337\n"
     ]
    }
   ],
   "source": [
    "cliques = find_three_clique(graph)\n",
    "\n",
    "count = 0\n",
    "\n",
    "for clique in cliques:\n",
    "  t_node = False\n",
    "  for node in clique:\n",
    "    if node[0] == \"t\":\n",
    "      t_node = True\n",
    "  if t_node:\n",
    "    count += 1\n",
    "\n",
    "print(count)"
   ]
  },
  {
   "cell_type": "code",
   "execution_count": 92,
   "metadata": {},
   "outputs": [
    {
     "name": "stdout",
     "output_type": "stream",
     "text": [
      "aw,fk,gv,hi,hp,ip,jy,kc,lk,og,pj,re,sr\n"
     ]
    }
   ],
   "source": [
    "all_cliques = bron_kerbosch(set(), set(graph.keys()), set(), graph)\n",
    "# all_cliques = find_all_cliques(set(), set(graph.keys()), set(), graph, set())\n",
    "max_clique = max(all_cliques, key=len)\n",
    "\n",
    "sorted_mc = sorted(max_clique)\n",
    "str = \"\"\n",
    "for name in sorted_mc:\n",
    "  str += name + \",\"\n",
    "\n",
    "print(str[:-1])\n"
   ]
  },
  {
   "cell_type": "code",
   "execution_count": 90,
   "metadata": {},
   "outputs": [],
   "source": [
    "# ao,dh,ld,le,me,mq,nx,oo,qe,ve,wq,yy"
   ]
  }
 ],
 "metadata": {
  "kernelspec": {
   "display_name": "Python 3",
   "language": "python",
   "name": "python3"
  },
  "language_info": {
   "codemirror_mode": {
    "name": "ipython",
    "version": 3
   },
   "file_extension": ".py",
   "mimetype": "text/x-python",
   "name": "python",
   "nbconvert_exporter": "python",
   "pygments_lexer": "ipython3",
   "version": "3.9.5"
  }
 },
 "nbformat": 4,
 "nbformat_minor": 2
}
