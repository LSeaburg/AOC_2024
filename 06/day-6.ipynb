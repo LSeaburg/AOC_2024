{
 "cells": [
  {
   "cell_type": "code",
   "execution_count": 1,
   "metadata": {},
   "outputs": [],
   "source": [
    "directions = [\n",
    "  [0,1], [1,0], [0,-1], [-1,0]\n",
    "]"
   ]
  },
  {
   "cell_type": "code",
   "execution_count": 2,
   "metadata": {},
   "outputs": [],
   "source": [
    "def get_guard_pos(map):\n",
    "  for index, line in enumerate(map):\n",
    "    if \"^\" in line:\n",
    "      return [index, line.index(\"^\")]"
   ]
  },
  {
   "cell_type": "code",
   "execution_count": 3,
   "metadata": {},
   "outputs": [],
   "source": [
    "def next_guard_pos(pos, direction):\n",
    "  return [pos[0] + direction[0], pos[1] + direction[1]]"
   ]
  },
  {
   "cell_type": "code",
   "execution_count": 4,
   "metadata": {},
   "outputs": [],
   "source": [
    "def is_in_bounds(pos, map):\n",
    "  if pos[0] < 0:\n",
    "    return False\n",
    "  if pos[1] < 0:\n",
    "    return False\n",
    "  if pos[0] > len(map) - 1:\n",
    "    return False\n",
    "  if pos[1] > len(map[0]) - 1:\n",
    "    return False\n",
    "  return True"
   ]
  },
  {
   "cell_type": "code",
   "execution_count": 5,
   "metadata": {},
   "outputs": [],
   "source": [
    "def is_barrier(pos, map):\n",
    "  if map[pos[0]][pos[1]] == \"#\":\n",
    "    return True\n",
    "  return False"
   ]
  },
  {
   "cell_type": "code",
   "execution_count": 6,
   "metadata": {},
   "outputs": [],
   "source": [
    "def turn(direction, directions):\n",
    "  for i, dir in enumerate(directions):\n",
    "    if direction == dir:\n",
    "      if i == len(directions) - 1:\n",
    "        return directions[0]\n",
    "      return directions[i + 1]\n",
    "  return -1"
   ]
  },
  {
   "cell_type": "code",
   "execution_count": 7,
   "metadata": {},
   "outputs": [],
   "source": [
    "def count_walked_squares(map):\n",
    "  sum = 0\n",
    "  for line in map:\n",
    "    sum = sum + line.count(\"X\")\n",
    "  return sum"
   ]
  },
  {
   "cell_type": "code",
   "execution_count": 8,
   "metadata": {},
   "outputs": [],
   "source": [
    "def path_loops(state, map):\n",
    "  seen = []\n",
    "  pos = state[0]\n",
    "  direction = state[1]\n",
    "  while is_in_bounds(next_guard_pos(pos, direction), map):\n",
    "    if is_barrier(next_guard_pos(pos, direction), map):\n",
    "      seen.append(state)\n",
    "      direction = turn(direction, directions)\n",
    "    else:\n",
    "      pos = next_guard_pos(pos, direction)\n",
    "    state = [pos, direction]\n",
    "    if state in seen:\n",
    "      return True\n",
    "  return False"
   ]
  },
  {
   "cell_type": "code",
   "execution_count": 9,
   "metadata": {},
   "outputs": [],
   "source": [
    "f = open(\"input.txt\")\n",
    "lines = f.readlines()\n",
    "\n",
    "map = []\n",
    "for line in lines:\n",
    "  map.append(list(line.strip()))"
   ]
  },
  {
   "cell_type": "code",
   "execution_count": 10,
   "metadata": {},
   "outputs": [
    {
     "data": {
      "text/plain": [
       "5551"
      ]
     },
     "execution_count": 10,
     "metadata": {},
     "output_type": "execute_result"
    }
   ],
   "source": [
    "pos = get_guard_pos(map)\n",
    "direction = directions[3]\n",
    "initial_guard_state = [pos, direction]\n",
    "\n",
    "while is_in_bounds(next_guard_pos(pos, direction), map):\n",
    "  if is_barrier(next_guard_pos(pos, direction), map):\n",
    "    direction = turn(direction, directions)\n",
    "  else:\n",
    "    map[pos[0]][pos[1]] = \"X\"\n",
    "    pos = next_guard_pos(pos, direction)\n",
    "\n",
    "map[pos[0]][pos[1]] = \"X\"\n",
    "count_walked_squares(map)"
   ]
  },
  {
   "cell_type": "code",
   "execution_count": 11,
   "metadata": {},
   "outputs": [],
   "source": [
    "## Part 2"
   ]
  },
  {
   "cell_type": "code",
   "execution_count": 12,
   "metadata": {},
   "outputs": [
    {
     "data": {
      "text/plain": [
       "1939"
      ]
     },
     "execution_count": 12,
     "metadata": {},
     "output_type": "execute_result"
    }
   ],
   "source": [
    "pos = initial_guard_state[0]\n",
    "dir = initial_guard_state[1]\n",
    "\n",
    "map[pos[0]][pos[1]] = \"^\"\n",
    "\n",
    "locations = 0\n",
    "\n",
    "for i in range(len(map)):\n",
    "  for j in range(len(map[0])):\n",
    "    if map[i][j] == \"X\":\n",
    "      map[i][j] = \"#\"\n",
    "      if path_loops(initial_guard_state, map):\n",
    "        locations += 1\n",
    "      map[i][j] = \"X\"\n",
    "\n",
    "locations"
   ]
  },
  {
   "cell_type": "code",
   "execution_count": null,
   "metadata": {},
   "outputs": [],
   "source": []
  }
 ],
 "metadata": {
  "kernelspec": {
   "display_name": "Python 3",
   "language": "python",
   "name": "python3"
  },
  "language_info": {
   "codemirror_mode": {
    "name": "ipython",
    "version": 3
   },
   "file_extension": ".py",
   "mimetype": "text/x-python",
   "name": "python",
   "nbconvert_exporter": "python",
   "pygments_lexer": "ipython3",
   "version": "3.9.5"
  }
 },
 "nbformat": 4,
 "nbformat_minor": 2
}
