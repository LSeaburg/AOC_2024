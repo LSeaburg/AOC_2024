{
 "cells": [
  {
   "cell_type": "code",
   "execution_count": 1,
   "metadata": {},
   "outputs": [],
   "source": [
    "def process_line(line):\n",
    "  return list(map(int, line.split()))"
   ]
  },
  {
   "cell_type": "code",
   "execution_count": 2,
   "metadata": {},
   "outputs": [],
   "source": [
    "def is_safe_inc(report):\n",
    "  for i in range(len(report) - 1):\n",
    "    k = report[i + 1] - report[i]\n",
    "    if k < 1 or k > 3:\n",
    "      return False\n",
    "  return True"
   ]
  },
  {
   "cell_type": "code",
   "execution_count": 3,
   "metadata": {},
   "outputs": [],
   "source": [
    "def is_safe_dec(report):\n",
    "  for i in range(len(report) - 1):\n",
    "    k = report[i + 1] - report[i]\n",
    "    if k > -1 or k < -3:\n",
    "      return False\n",
    "  return True"
   ]
  },
  {
   "cell_type": "code",
   "execution_count": 4,
   "metadata": {},
   "outputs": [],
   "source": [
    "def is_safe(report):\n",
    "  if is_safe_inc(report) or is_safe_dec(report):\n",
    "    return True\n",
    "  return False"
   ]
  },
  {
   "cell_type": "code",
   "execution_count": 5,
   "metadata": {},
   "outputs": [],
   "source": [
    "def is_safe_dampened(report):\n",
    "  for i in range(len(report)):\n",
    "    temp_list = report.copy()\n",
    "    del (temp_list[i])\n",
    "    if is_safe(temp_list):\n",
    "      return True\n",
    "  return False"
   ]
  },
  {
   "cell_type": "code",
   "execution_count": 6,
   "metadata": {},
   "outputs": [
    {
     "name": "stdout",
     "output_type": "stream",
     "text": [
      "321\n"
     ]
    }
   ],
   "source": [
    "f = open(\"input.txt\")\n",
    "lines = f.readlines()\n",
    "\n",
    "num_safe = 0\n",
    "for line in lines:\n",
    "  report = process_line(line)\n",
    "  if (is_safe(report)):\n",
    "    num_safe = num_safe + 1\n",
    "\n",
    "print(num_safe)"
   ]
  },
  {
   "cell_type": "code",
   "execution_count": 7,
   "metadata": {},
   "outputs": [],
   "source": [
    "## Part 2"
   ]
  },
  {
   "cell_type": "code",
   "execution_count": 8,
   "metadata": {},
   "outputs": [
    {
     "name": "stdout",
     "output_type": "stream",
     "text": [
      "386\n"
     ]
    }
   ],
   "source": [
    "num_safe_dampened = 0\n",
    "for line in lines:\n",
    "  report = process_line(line)\n",
    "  if (is_safe_dampened(report)):\n",
    "    num_safe_dampened = num_safe_dampened + 1\n",
    "\n",
    "print(num_safe_dampened)"
   ]
  }
 ],
 "metadata": {
  "kernelspec": {
   "display_name": "Python 3",
   "language": "python",
   "name": "python3"
  },
  "language_info": {
   "codemirror_mode": {
    "name": "ipython",
    "version": 3
   },
   "file_extension": ".py",
   "mimetype": "text/x-python",
   "name": "python",
   "nbconvert_exporter": "python",
   "pygments_lexer": "ipython3",
   "version": "3.9.5"
  }
 },
 "nbformat": 4,
 "nbformat_minor": 2
}
