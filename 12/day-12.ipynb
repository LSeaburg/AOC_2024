{
 "cells": [
  {
   "cell_type": "code",
   "execution_count": 611,
   "metadata": {},
   "outputs": [],
   "source": [
    "def is_in_bounds(pos, map):\n",
    "  if pos[0] < 0 or pos[1] < 0:\n",
    "    return False\n",
    "  if pos[0] >= len(map):\n",
    "    return False\n",
    "  if pos[1] >= len(map[0]):\n",
    "    return False\n",
    "  return True"
   ]
  },
  {
   "cell_type": "code",
   "execution_count": 612,
   "metadata": {},
   "outputs": [],
   "source": [
    "def get_surrounding_plants(pos, map, oob = False):\n",
    "  areas = []\n",
    "  if is_in_bounds((pos[0]-1, pos[1]), map) or oob:\n",
    "    areas.append((pos[0]-1, pos[1]))\n",
    "  if is_in_bounds((pos[0]+1, pos[1]), map) or oob:\n",
    "    areas.append((pos[0]+1, pos[1]))\n",
    "  if is_in_bounds((pos[0], pos[1]-1), map) or oob:\n",
    "    areas.append((pos[0], pos[1]-1))\n",
    "  if is_in_bounds((pos[0], pos[1]+1), map) or oob:\n",
    "    areas.append((pos[0], pos[1]+1))\n",
    "  return areas\n"
   ]
  },
  {
   "cell_type": "code",
   "execution_count": 613,
   "metadata": {},
   "outputs": [],
   "source": [
    "def get_plant(pos, garden):\n",
    "  return garden[pos[0]][pos[1]]"
   ]
  },
  {
   "cell_type": "code",
   "execution_count": 614,
   "metadata": {},
   "outputs": [],
   "source": [
    "def add_to_plot(plant, plot, to_check, garden):\n",
    "  next_check = set()\n",
    "  for pos in to_check:\n",
    "    if get_plant(pos, garden) == plant:\n",
    "      plot.add(pos)\n",
    "      for p in get_surrounding_plants(pos, garden):\n",
    "        if p not in plot:\n",
    "          next_check.add(p)\n",
    "  return next_check"
   ]
  },
  {
   "cell_type": "code",
   "execution_count": 615,
   "metadata": {},
   "outputs": [],
   "source": [
    "def find_plot(pos, garden):\n",
    "  plot = set()\n",
    "  to_check = set({pos})\n",
    "  plant = get_plant(pos, garden)\n",
    "\n",
    "  while len(to_check) != 0:\n",
    "    to_check = add_to_plot(plant, plot, to_check, garden)\n",
    "  return plot"
   ]
  },
  {
   "cell_type": "code",
   "execution_count": 616,
   "metadata": {},
   "outputs": [],
   "source": [
    "def get_area(plot):\n",
    "  return len(plot)"
   ]
  },
  {
   "cell_type": "code",
   "execution_count": 617,
   "metadata": {},
   "outputs": [],
   "source": [
    "def get_perimeter(plot, garden):\n",
    "  perimeter = 0\n",
    "  for pos in plot:\n",
    "    sur = get_surrounding_plants(pos, garden)\n",
    "    perimeter += 4 - len(sur)\n",
    "    for p in sur:\n",
    "      if get_plant(pos, garden) != get_plant(p, garden):\n",
    "        perimeter += 1\n",
    "  return perimeter"
   ]
  },
  {
   "cell_type": "code",
   "execution_count": 618,
   "metadata": {},
   "outputs": [],
   "source": [
    "def get_side_units(plot, garden):\n",
    "  side_units = set()\n",
    "  for pos in plot:\n",
    "    sur = get_surrounding_plants(pos, garden, True)\n",
    "    for p in sur:\n",
    "      if not is_in_bounds(p, garden) or get_plant(pos, garden) != get_plant(p, garden):\n",
    "        side_units.add((pos, p))\n",
    "  return side_units"
   ]
  },
  {
   "cell_type": "code",
   "execution_count": 619,
   "metadata": {},
   "outputs": [],
   "source": [
    "def side_is_adjacent(s1, s2):\n",
    "  vecs = {(-1, 0), (1, 0), (0, -1), (0, 1)}\n",
    "  for v in vecs:\n",
    "    if (s2[0] == tuple(a + b for a, b in zip(s1[0], v)) and\n",
    "        s2[1] == tuple(a + b for a, b in zip(s1[1], v))):\n",
    "      return True\n",
    "  return False"
   ]
  },
  {
   "cell_type": "code",
   "execution_count": 620,
   "metadata": {},
   "outputs": [],
   "source": [
    "def get_sides(plot, garden):\n",
    "  side_units = get_side_units(plot, garden)\n",
    "  sides = []\n",
    "  for side_unit in side_units:\n",
    "    adj_sides = []\n",
    "    for s_index, side in enumerate(sides):\n",
    "      for su in side:\n",
    "        if side_is_adjacent(side_unit, su):\n",
    "          adj_sides.append(s_index)\n",
    "    if len(adj_sides) == 0:\n",
    "      sides.append([side_unit])\n",
    "    elif len(adj_sides) == 1:\n",
    "      sides[adj_sides[0]].append(side_unit)\n",
    "    else: ## len(found_sides) == 2\n",
    "      sides[adj_sides[0]].append(side_unit)\n",
    "      sides[adj_sides[0]].extend(sides[adj_sides[1]])\n",
    "      sides.pop(adj_sides[1])\n",
    "  return len(sides)"
   ]
  },
  {
   "cell_type": "code",
   "execution_count": 621,
   "metadata": {},
   "outputs": [],
   "source": [
    "garden = []\n",
    "\n",
    "with open(\"input.txt\", \"r\") as file:\n",
    "    for line in file:\n",
    "        garden.append(line.strip())"
   ]
  },
  {
   "cell_type": "code",
   "execution_count": 622,
   "metadata": {},
   "outputs": [],
   "source": [
    "plots = []\n",
    "added_to_plot = set()\n",
    "\n",
    "for i, row in enumerate(garden):\n",
    "  for j, plant in enumerate(row):\n",
    "    pos = (i, j)\n",
    "\n",
    "    if pos not in added_to_plot:\n",
    "      new_plot = find_plot(pos, garden)\n",
    "      plots.append(new_plot)\n",
    "      added_to_plot.update(new_plot)"
   ]
  },
  {
   "cell_type": "code",
   "execution_count": 623,
   "metadata": {},
   "outputs": [
    {
     "data": {
      "text/plain": [
       "1471452"
      ]
     },
     "execution_count": 623,
     "metadata": {},
     "output_type": "execute_result"
    }
   ],
   "source": [
    "cost = 0\n",
    "\n",
    "for plot in plots:\n",
    "  cost += get_area(plot) * get_perimeter(plot, garden)\n",
    "\n",
    "cost"
   ]
  },
  {
   "cell_type": "code",
   "execution_count": 624,
   "metadata": {},
   "outputs": [
    {
     "data": {
      "text/plain": [
       "863366"
      ]
     },
     "execution_count": 624,
     "metadata": {},
     "output_type": "execute_result"
    }
   ],
   "source": [
    "new_cost = 0\n",
    "\n",
    "for plot in plots:\n",
    "  new_cost += get_area(plot) * get_sides(plot, garden)\n",
    "\n",
    "new_cost"
   ]
  }
 ],
 "metadata": {
  "kernelspec": {
   "display_name": "Python 3",
   "language": "python",
   "name": "python3"
  },
  "language_info": {
   "codemirror_mode": {
    "name": "ipython",
    "version": 3
   },
   "file_extension": ".py",
   "mimetype": "text/x-python",
   "name": "python",
   "nbconvert_exporter": "python",
   "pygments_lexer": "ipython3",
   "version": "3.9.5"
  }
 },
 "nbformat": 4,
 "nbformat_minor": 2
}
