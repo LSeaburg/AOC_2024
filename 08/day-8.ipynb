{
 "cells": [
  {
   "cell_type": "code",
   "execution_count": 62,
   "metadata": {},
   "outputs": [],
   "source": [
    "import itertools"
   ]
  },
  {
   "cell_type": "code",
   "execution_count": 63,
   "metadata": {},
   "outputs": [],
   "source": [
    "def is_in_bounds(pos, map):\n",
    "  if pos[0] < 0 or pos[1] < 0:\n",
    "    return False\n",
    "  if pos[0] >= len(map[0]):\n",
    "    return False\n",
    "  if pos[1] >= len(map):\n",
    "    return False\n",
    "  return True"
   ]
  },
  {
   "cell_type": "code",
   "execution_count": 64,
   "metadata": {},
   "outputs": [],
   "source": [
    "def get_antinodes(ant_locs):\n",
    "  vector = (ant_locs[1][0] - ant_locs[0][0], ant_locs[1][1] - ant_locs[0][1])\n",
    "  an1 = (ant_locs[0][0] - vector[0], ant_locs[0][1] - vector[1])\n",
    "  an2 = (ant_locs[1][0] + vector[0], ant_locs[1][1] + vector[1])\n",
    "  return (an1, an2)"
   ]
  },
  {
   "cell_type": "code",
   "execution_count": null,
   "metadata": {},
   "outputs": [],
   "source": [
    "def get_harmonic_antinodes(ant_locs, map):\n",
    "  vector = (ant_locs[1][0] - ant_locs[0][0], ant_locs[1][1] - ant_locs[0][1])\n",
    "  a_nodes = set()\n",
    "  \n",
    "  cur_node = ant_locs[0]\n",
    "  while(is_in_bounds(cur_node, map)):\n",
    "    a_nodes.add(cur_node)\n",
    "    cur_node = (cur_node[0] - vector[0], cur_node[1] - vector[1])\n",
    "\n",
    "  cur_node = ant_locs[0]\n",
    "  while(is_in_bounds(cur_node, map)):\n",
    "    a_nodes.add(cur_node)\n",
    "    cur_node = (cur_node[0] + vector[0], cur_node[1] + vector[1])\n",
    "\n",
    "  return a_nodes\n",
    "  "
   ]
  },
  {
   "cell_type": "code",
   "execution_count": 66,
   "metadata": {},
   "outputs": [],
   "source": [
    "def add_antinodes(ant_locs, antinodes, map, harmonic = False):\n",
    "  combinations = list(itertools.combinations(ant_locs, 2))\n",
    "\n",
    "  for combo in combinations:\n",
    "    ans = get_antinodes(combo)\n",
    "    if harmonic:\n",
    "      ans = get_harmonic_antinodes(combo, map)\n",
    "    for an in ans:\n",
    "      if is_in_bounds(an, map):\n",
    "        antinodes.add(an)"
   ]
  },
  {
   "cell_type": "code",
   "execution_count": 67,
   "metadata": {},
   "outputs": [],
   "source": [
    "with open(\"input.txt\", \"r\") as file:\n",
    "    map = [line.strip() for line in file]\n",
    "\n",
    "antennas = dict()\n",
    "antinodes = set()"
   ]
  },
  {
   "cell_type": "code",
   "execution_count": 68,
   "metadata": {},
   "outputs": [],
   "source": [
    "for y, row in enumerate(map):\n",
    "  for x, sym in enumerate(row):\n",
    "    if sym in antennas:\n",
    "      antennas.get(sym).append((x, y))\n",
    "    elif sym != \".\":\n",
    "      antennas[sym] = [(x, y)]"
   ]
  },
  {
   "cell_type": "code",
   "execution_count": 69,
   "metadata": {},
   "outputs": [
    {
     "data": {
      "text/plain": [
       "289"
      ]
     },
     "execution_count": 69,
     "metadata": {},
     "output_type": "execute_result"
    }
   ],
   "source": [
    "for ant_locs in antennas.values():\n",
    "  add_antinodes(ant_locs, antinodes, map)\n",
    "\n",
    "len(antinodes)"
   ]
  },
  {
   "cell_type": "code",
   "execution_count": 70,
   "metadata": {},
   "outputs": [
    {
     "data": {
      "text/plain": [
       "1030"
      ]
     },
     "execution_count": 70,
     "metadata": {},
     "output_type": "execute_result"
    }
   ],
   "source": [
    "for ant_locs in antennas.values():\n",
    "  add_antinodes(ant_locs, antinodes, map, harmonic=True)\n",
    "\n",
    "len(antinodes)"
   ]
  }
 ],
 "metadata": {
  "kernelspec": {
   "display_name": "Python 3",
   "language": "python",
   "name": "python3"
  },
  "language_info": {
   "codemirror_mode": {
    "name": "ipython",
    "version": 3
   },
   "file_extension": ".py",
   "mimetype": "text/x-python",
   "name": "python",
   "nbconvert_exporter": "python",
   "pygments_lexer": "ipython3",
   "version": "3.9.5"
  }
 },
 "nbformat": 4,
 "nbformat_minor": 2
}
