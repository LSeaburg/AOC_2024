{
 "cells": [
  {
   "cell_type": "code",
   "execution_count": 148,
   "metadata": {},
   "outputs": [],
   "source": [
    "def is_in_bounds(pos, map):\n",
    "  if pos[0] < 0 or pos[1] < 0:\n",
    "    return False\n",
    "  if pos[0] >= len(map):\n",
    "    return False\n",
    "  if pos[1] >= len(map[0]):\n",
    "    return False\n",
    "  return True"
   ]
  },
  {
   "cell_type": "code",
   "execution_count": 149,
   "metadata": {},
   "outputs": [],
   "source": [
    "def get_surrounding_areas(pos, map):\n",
    "  areas = []\n",
    "  if is_in_bounds((pos[0]-1, pos[1]), map):\n",
    "    areas.append((pos[0]-1, pos[1]))\n",
    "  if is_in_bounds((pos[0]+1, pos[1]), map):\n",
    "    areas.append((pos[0]+1, pos[1]))\n",
    "  if is_in_bounds((pos[0], pos[1]-1), map):\n",
    "    areas.append((pos[0], pos[1]-1))\n",
    "  if is_in_bounds((pos[0], pos[1]+1), map):\n",
    "    areas.append((pos[0], pos[1]+1))\n",
    "  return areas\n"
   ]
  },
  {
   "cell_type": "code",
   "execution_count": 150,
   "metadata": {},
   "outputs": [],
   "source": [
    "def find_peak(to_investigate, found_peaks, map):\n",
    "  next_investigation = set()\n",
    "  for pos in to_investigate:\n",
    "    height = map[pos[0]][pos[1]]\n",
    "    for p in get_surrounding_areas(pos, map):\n",
    "      if map[p[0]][p[1]] == height + 1:\n",
    "        next_investigation.add(p)\n",
    "        if map[p[0]][p[1]] == 9:\n",
    "          found_peaks.add(p)\n",
    "  return next_investigation"
   ]
  },
  {
   "cell_type": "code",
   "execution_count": 151,
   "metadata": {},
   "outputs": [],
   "source": [
    "def find_peak_with_redundant_paths(to_investigate, found_peaks, map):\n",
    "  next_investigation = []\n",
    "  for pos in to_investigate:\n",
    "    height = map[pos[0]][pos[1]]\n",
    "    for p in get_surrounding_areas(pos, map):\n",
    "      if map[p[0]][p[1]] == height + 1:\n",
    "        next_investigation.append(p)\n",
    "        if map[p[0]][p[1]] == 9:\n",
    "          found_peaks.append(p)\n",
    "  return next_investigation"
   ]
  },
  {
   "cell_type": "code",
   "execution_count": 152,
   "metadata": {},
   "outputs": [],
   "source": [
    "def get_score(trail_head, map):\n",
    "\n",
    "  to_investigate = set()\n",
    "  found_peaks = set()\n",
    "\n",
    "  to_investigate.add(trail_head)\n",
    "\n",
    "  while len(to_investigate) != 0:\n",
    "    to_investigate = find_peak(to_investigate, found_peaks, map)\n",
    "  return len(found_peaks)"
   ]
  },
  {
   "cell_type": "code",
   "execution_count": 153,
   "metadata": {},
   "outputs": [],
   "source": [
    "def get_rating(trail_head, map):\n",
    "  to_investigate = []\n",
    "  found_peaks = []\n",
    "\n",
    "  to_investigate.append(trail_head)\n",
    "\n",
    "  while len(to_investigate) != 0:\n",
    "    to_investigate = find_peak_with_redundant_paths(to_investigate, found_peaks, map)\n",
    "  return len(found_peaks)"
   ]
  },
  {
   "cell_type": "code",
   "execution_count": 154,
   "metadata": {},
   "outputs": [],
   "source": [
    "top_map = []\n",
    "\n",
    "with open(\"input.txt\", \"r\") as file:\n",
    "    for line in file:\n",
    "        top_map.append(list(map(int, line.strip())))"
   ]
  },
  {
   "cell_type": "code",
   "execution_count": 155,
   "metadata": {},
   "outputs": [],
   "source": [
    "trail_heads = []\n",
    "\n",
    "for i, row in enumerate(top_map):\n",
    "  for j, height in enumerate(row):\n",
    "    if height == 0:\n",
    "      trail_heads.append((i, j))"
   ]
  },
  {
   "cell_type": "code",
   "execution_count": 156,
   "metadata": {},
   "outputs": [
    {
     "data": {
      "text/plain": [
       "582"
      ]
     },
     "execution_count": 156,
     "metadata": {},
     "output_type": "execute_result"
    }
   ],
   "source": [
    "score_total = 0\n",
    "\n",
    "for th in trail_heads:\n",
    "  score_total += get_score(th, top_map)\n",
    "\n",
    "score_total"
   ]
  },
  {
   "cell_type": "code",
   "execution_count": 157,
   "metadata": {},
   "outputs": [],
   "source": [
    "## Part 2"
   ]
  },
  {
   "cell_type": "code",
   "execution_count": 158,
   "metadata": {},
   "outputs": [
    {
     "data": {
      "text/plain": [
       "1302"
      ]
     },
     "execution_count": 158,
     "metadata": {},
     "output_type": "execute_result"
    }
   ],
   "source": [
    "rating_total = 0\n",
    "\n",
    "for th in trail_heads:\n",
    "  rating_total += get_rating(th, top_map)\n",
    "\n",
    "rating_total"
   ]
  }
 ],
 "metadata": {
  "kernelspec": {
   "display_name": "Python 3",
   "language": "python",
   "name": "python3"
  },
  "language_info": {
   "codemirror_mode": {
    "name": "ipython",
    "version": 3
   },
   "file_extension": ".py",
   "mimetype": "text/x-python",
   "name": "python",
   "nbconvert_exporter": "python",
   "pygments_lexer": "ipython3",
   "version": "3.9.5"
  }
 },
 "nbformat": 4,
 "nbformat_minor": 2
}
